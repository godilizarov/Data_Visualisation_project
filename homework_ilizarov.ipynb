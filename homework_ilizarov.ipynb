{
  "cells": [
    {
      "cell_type": "markdown",
      "metadata": {
        "id": "tl76Zxg4XSQk"
      },
      "source": [
        "Постройте воронку, которая показывала бы в динамике по неделям и месяцам:\n",
        "1.   сколько клиентов посещает наш сайт;\n",
        "2.   какая доля из них (посетивших) регистрируется на нём/подаёт заявку на игру/приходит на игру (неважно, в каком месяце);\n",
        "3.   какая доля из них (зарегестрировавшихся) подает заявку на игру (неважно, в каком месяце);\n",
        "4.   какая доля из них (зарегестрировавшихся и подавших заявку на игру) по факту приходит на игру (неважно, в каком месяце).\n",
        "\n",
        "Изобразите:\n",
        "\n",
        "1.   Кол-во клиентов, которые посещают наш сайт / регистрируются на сайте / подают заявку на игру/ приходят на игру помесячно и понедельно. Добавьте легенду, подписи осей и название диаграммы.\n",
        "\n",
        "Дополнительно сделайте табличку с долей каждой группы от общего числа посетителей для помесячного графика.\n",
        "\n",
        "2.   Помесячно (и затем понедельно) на одной гистограмме\n",
        "- кол-во клиентов, которые посетили сайт / зарегистрировались / подали заявку на игру / пришли на игру и долю зарегистрировавшихся от посетителей / долю подавших заявку от регистраций / долю пришедших хотя бы на 1 игру от подававших заявку (абсолюты и конверсии должны быть на разных осях соответственно)\n",
        "\n",
        "\n",
        "Какие выводы можно сделать исходя из построенных конверсий, какие точки роста продукта вы видите?"
      ]
    },
    {
      "cell_type": "markdown",
      "metadata": {
        "id": "RMTiCOkulftL"
      },
      "source": [
        "// Всего можно получить 6 баллов\n",
        "*   построена полная воронка с помощью sql-запроса - 2 балла\n",
        "*   выполнен 1 пункт - 2 балла\n",
        "*   выполнен 2 пункт - 2 балла\n",
        "\n"
      ]
    },
    {
      "cell_type": "code",
      "execution_count": 3,
      "metadata": {
        "id": "hrIn2IFWXF1h"
      },
      "outputs": [],
      "source": [
        "import psycopg2\n",
        "import pandas as pd\n",
        "from matplotlib import pyplot as plt\n",
        "import seaborn as sns\n",
        "from plotly import graph_objects as go\n",
        "from plotly.data import tips\n",
        "import plotly.graph_objects as go\n",
        "%matplotlib inline\n",
        "\n",
        "conn = psycopg2.connect(\n",
        "    host=\"158.160.110.228\",\n",
        "    port=5432,\n",
        "    database=\"postgres\",\n",
        "    user=\"student\",\n",
        "    password=\"JvLda93aA\",\n",
        ")\n",
        "curr=conn.cursor()"
      ]
    },
    {
      "cell_type": "code",
      "execution_count": 4,
      "metadata": {},
      "outputs": [],
      "source": [
        "sql_months = '''\n",
        "select\n",
        "\t(to_char(visit_dttm, 'YYYY ') || (to_char(visit_dttm, 'Month'))) as year_month,\n",
        "\tdate_trunc('month', visit_dttm)::date as first_day_of_month,\n",
        "\tcount(distinct c.client_rk) as visitors,\n",
        "\tcount(distinct a.account_rk) as registered,\n",
        "\tcount(distinct ap.account_rk) as applied,\n",
        "\tcount(distinct ap.account_rk) filter (\n",
        "where\n",
        "\tgame_flg = 1) as played\n",
        "from\n",
        "\t\tmsu_analytics.client c\n",
        "left join msu_analytics.account a\n",
        "\t\tusing(client_rk)\n",
        "left join msu_analytics.application ap\n",
        "\t\tusing(account_rk)\n",
        "left join msu_analytics.game g\n",
        "\t\tusing(game_rk)\n",
        "group by\n",
        "\t1,\n",
        "\t2\n",
        "order by\n",
        "\t2\n",
        "'''\n",
        "sql_weeks = '''\n",
        "select\n",
        "\tdate_trunc('week', visit_dttm)::date as first_day_of_week,\n",
        "\tcount(distinct c.client_rk) as visitors,\n",
        "\tcount(distinct a.account_rk) as registered,\n",
        "\tcount(distinct ap.account_rk) as applied,\n",
        "\tcount(distinct ap.account_rk) filter (\n",
        "where\n",
        "\tgame_flg = 1) as played\n",
        "from\n",
        "\t\tmsu_analytics.client c\n",
        "left join msu_analytics.account a\n",
        "\t\tusing(client_rk)\n",
        "left join msu_analytics.application ap\n",
        "\t\tusing(account_rk)\n",
        "left join msu_analytics.game g\n",
        "\t\tusing(game_rk)\n",
        "group by\n",
        "\t1\n",
        "order by\n",
        "\t1\n",
        "'''"
      ]
    },
    {
      "cell_type": "code",
      "execution_count": 5,
      "metadata": {
        "id": "iW2RHNOlYHbP"
      },
      "outputs": [
        {
          "name": "stderr",
          "output_type": "stream",
          "text": [
            "C:\\Users\\Huawei\\AppData\\Local\\Temp\\ipykernel_5900\\1252440817.py:2: UserWarning: pandas only supports SQLAlchemy connectable (engine/connection) or database string URI or sqlite3 DBAPI2 connection. Other DBAPI2 objects are not tested. Please consider using SQLAlchemy.\n",
            "  df_months = pd.read_sql(sql_months, conn)\n"
          ]
        },
        {
          "data": {
            "text/html": [
              "<div>\n",
              "<style scoped>\n",
              "    .dataframe tbody tr th:only-of-type {\n",
              "        vertical-align: middle;\n",
              "    }\n",
              "\n",
              "    .dataframe tbody tr th {\n",
              "        vertical-align: top;\n",
              "    }\n",
              "\n",
              "    .dataframe thead th {\n",
              "        text-align: right;\n",
              "    }\n",
              "</style>\n",
              "<table border=\"1\" class=\"dataframe\">\n",
              "  <thead>\n",
              "    <tr style=\"text-align: right;\">\n",
              "      <th></th>\n",
              "      <th>year_month</th>\n",
              "      <th>first_day_of_month</th>\n",
              "      <th>visitors</th>\n",
              "      <th>registered</th>\n",
              "      <th>applied</th>\n",
              "      <th>played</th>\n",
              "    </tr>\n",
              "  </thead>\n",
              "  <tbody>\n",
              "    <tr>\n",
              "      <th>0</th>\n",
              "      <td>2022 September</td>\n",
              "      <td>2022-09-01</td>\n",
              "      <td>778</td>\n",
              "      <td>190</td>\n",
              "      <td>51</td>\n",
              "      <td>39</td>\n",
              "    </tr>\n",
              "    <tr>\n",
              "      <th>1</th>\n",
              "      <td>2022 October</td>\n",
              "      <td>2022-10-01</td>\n",
              "      <td>843</td>\n",
              "      <td>217</td>\n",
              "      <td>65</td>\n",
              "      <td>56</td>\n",
              "    </tr>\n",
              "    <tr>\n",
              "      <th>2</th>\n",
              "      <td>2022 November</td>\n",
              "      <td>2022-11-01</td>\n",
              "      <td>786</td>\n",
              "      <td>200</td>\n",
              "      <td>56</td>\n",
              "      <td>50</td>\n",
              "    </tr>\n",
              "    <tr>\n",
              "      <th>3</th>\n",
              "      <td>2022 December</td>\n",
              "      <td>2022-12-01</td>\n",
              "      <td>805</td>\n",
              "      <td>196</td>\n",
              "      <td>57</td>\n",
              "      <td>33</td>\n",
              "    </tr>\n",
              "    <tr>\n",
              "      <th>4</th>\n",
              "      <td>2023 January</td>\n",
              "      <td>2023-01-01</td>\n",
              "      <td>852</td>\n",
              "      <td>213</td>\n",
              "      <td>64</td>\n",
              "      <td>20</td>\n",
              "    </tr>\n",
              "    <tr>\n",
              "      <th>5</th>\n",
              "      <td>2023 February</td>\n",
              "      <td>2023-02-01</td>\n",
              "      <td>32</td>\n",
              "      <td>8</td>\n",
              "      <td>0</td>\n",
              "      <td>0</td>\n",
              "    </tr>\n",
              "  </tbody>\n",
              "</table>\n",
              "</div>"
            ],
            "text/plain": [
              "       year_month first_day_of_month  visitors  registered  applied  played\n",
              "0  2022 September         2022-09-01       778         190       51      39\n",
              "1  2022 October           2022-10-01       843         217       65      56\n",
              "2  2022 November          2022-11-01       786         200       56      50\n",
              "3  2022 December          2022-12-01       805         196       57      33\n",
              "4  2023 January           2023-01-01       852         213       64      20\n",
              "5  2023 February          2023-02-01        32           8        0       0"
            ]
          },
          "execution_count": 5,
          "metadata": {},
          "output_type": "execute_result"
        }
      ],
      "source": [
        "#Табличка по месяцам\n",
        "df_months = pd.read_sql(sql_months, conn)\n",
        "df_months.head(10)"
      ]
    },
    {
      "cell_type": "code",
      "execution_count": 6,
      "metadata": {
        "id": "FSto_B5xYvDi"
      },
      "outputs": [
        {
          "name": "stderr",
          "output_type": "stream",
          "text": [
            "C:\\Users\\Huawei\\AppData\\Local\\Temp\\ipykernel_5900\\723851140.py:2: UserWarning: pandas only supports SQLAlchemy connectable (engine/connection) or database string URI or sqlite3 DBAPI2 connection. Other DBAPI2 objects are not tested. Please consider using SQLAlchemy.\n",
            "  df_weeks = pd.read_sql(sql_weeks, conn)\n"
          ]
        },
        {
          "data": {
            "text/html": [
              "<div>\n",
              "<style scoped>\n",
              "    .dataframe tbody tr th:only-of-type {\n",
              "        vertical-align: middle;\n",
              "    }\n",
              "\n",
              "    .dataframe tbody tr th {\n",
              "        vertical-align: top;\n",
              "    }\n",
              "\n",
              "    .dataframe thead th {\n",
              "        text-align: right;\n",
              "    }\n",
              "</style>\n",
              "<table border=\"1\" class=\"dataframe\">\n",
              "  <thead>\n",
              "    <tr style=\"text-align: right;\">\n",
              "      <th></th>\n",
              "      <th>first_day_of_week</th>\n",
              "      <th>visitors</th>\n",
              "      <th>registered</th>\n",
              "      <th>applied</th>\n",
              "      <th>played</th>\n",
              "    </tr>\n",
              "  </thead>\n",
              "  <tbody>\n",
              "    <tr>\n",
              "      <th>0</th>\n",
              "      <td>2022-08-29</td>\n",
              "      <td>111</td>\n",
              "      <td>32</td>\n",
              "      <td>7</td>\n",
              "      <td>5</td>\n",
              "    </tr>\n",
              "    <tr>\n",
              "      <th>1</th>\n",
              "      <td>2022-09-05</td>\n",
              "      <td>184</td>\n",
              "      <td>31</td>\n",
              "      <td>6</td>\n",
              "      <td>5</td>\n",
              "    </tr>\n",
              "    <tr>\n",
              "      <th>2</th>\n",
              "      <td>2022-09-12</td>\n",
              "      <td>167</td>\n",
              "      <td>43</td>\n",
              "      <td>16</td>\n",
              "      <td>8</td>\n",
              "    </tr>\n",
              "    <tr>\n",
              "      <th>3</th>\n",
              "      <td>2022-09-19</td>\n",
              "      <td>181</td>\n",
              "      <td>45</td>\n",
              "      <td>12</td>\n",
              "      <td>11</td>\n",
              "    </tr>\n",
              "    <tr>\n",
              "      <th>4</th>\n",
              "      <td>2022-09-26</td>\n",
              "      <td>195</td>\n",
              "      <td>59</td>\n",
              "      <td>17</td>\n",
              "      <td>17</td>\n",
              "    </tr>\n",
              "    <tr>\n",
              "      <th>5</th>\n",
              "      <td>2022-10-03</td>\n",
              "      <td>204</td>\n",
              "      <td>58</td>\n",
              "      <td>18</td>\n",
              "      <td>15</td>\n",
              "    </tr>\n",
              "    <tr>\n",
              "      <th>6</th>\n",
              "      <td>2022-10-10</td>\n",
              "      <td>190</td>\n",
              "      <td>44</td>\n",
              "      <td>13</td>\n",
              "      <td>13</td>\n",
              "    </tr>\n",
              "    <tr>\n",
              "      <th>7</th>\n",
              "      <td>2022-10-17</td>\n",
              "      <td>171</td>\n",
              "      <td>41</td>\n",
              "      <td>12</td>\n",
              "      <td>10</td>\n",
              "    </tr>\n",
              "    <tr>\n",
              "      <th>8</th>\n",
              "      <td>2022-10-24</td>\n",
              "      <td>189</td>\n",
              "      <td>48</td>\n",
              "      <td>15</td>\n",
              "      <td>11</td>\n",
              "    </tr>\n",
              "    <tr>\n",
              "      <th>9</th>\n",
              "      <td>2022-10-31</td>\n",
              "      <td>197</td>\n",
              "      <td>47</td>\n",
              "      <td>16</td>\n",
              "      <td>14</td>\n",
              "    </tr>\n",
              "  </tbody>\n",
              "</table>\n",
              "</div>"
            ],
            "text/plain": [
              "  first_day_of_week  visitors  registered  applied  played\n",
              "0        2022-08-29       111          32        7       5\n",
              "1        2022-09-05       184          31        6       5\n",
              "2        2022-09-12       167          43       16       8\n",
              "3        2022-09-19       181          45       12      11\n",
              "4        2022-09-26       195          59       17      17\n",
              "5        2022-10-03       204          58       18      15\n",
              "6        2022-10-10       190          44       13      13\n",
              "7        2022-10-17       171          41       12      10\n",
              "8        2022-10-24       189          48       15      11\n",
              "9        2022-10-31       197          47       16      14"
            ]
          },
          "execution_count": 6,
          "metadata": {},
          "output_type": "execute_result"
        }
      ],
      "source": [
        "#Табличка по неделям\n",
        "df_weeks = pd.read_sql(sql_weeks, conn)\n",
        "df_weeks.head(10)"
      ]
    },
    {
      "cell_type": "code",
      "execution_count": 7,
      "metadata": {},
      "outputs": [
        {
          "data": {
            "text/html": [
              "<div>\n",
              "<style scoped>\n",
              "    .dataframe tbody tr th:only-of-type {\n",
              "        vertical-align: middle;\n",
              "    }\n",
              "\n",
              "    .dataframe tbody tr th {\n",
              "        vertical-align: top;\n",
              "    }\n",
              "\n",
              "    .dataframe thead th {\n",
              "        text-align: right;\n",
              "    }\n",
              "</style>\n",
              "<table border=\"1\" class=\"dataframe\">\n",
              "  <thead>\n",
              "    <tr style=\"text-align: right;\">\n",
              "      <th></th>\n",
              "      <th>year_month</th>\n",
              "      <th>first_day_of_month</th>\n",
              "      <th>visitors</th>\n",
              "      <th>registered</th>\n",
              "      <th>applied</th>\n",
              "      <th>played</th>\n",
              "      <th>conversion_reg</th>\n",
              "      <th>conversion_app</th>\n",
              "      <th>conversion_game</th>\n",
              "    </tr>\n",
              "  </thead>\n",
              "  <tbody>\n",
              "    <tr>\n",
              "      <th>0</th>\n",
              "      <td>2022 September</td>\n",
              "      <td>2022-09-01</td>\n",
              "      <td>778</td>\n",
              "      <td>190</td>\n",
              "      <td>51</td>\n",
              "      <td>39</td>\n",
              "      <td>24.421594</td>\n",
              "      <td>26.842105</td>\n",
              "      <td>76.470588</td>\n",
              "    </tr>\n",
              "    <tr>\n",
              "      <th>1</th>\n",
              "      <td>2022 October</td>\n",
              "      <td>2022-10-01</td>\n",
              "      <td>843</td>\n",
              "      <td>217</td>\n",
              "      <td>65</td>\n",
              "      <td>56</td>\n",
              "      <td>25.741400</td>\n",
              "      <td>29.953917</td>\n",
              "      <td>86.153846</td>\n",
              "    </tr>\n",
              "    <tr>\n",
              "      <th>2</th>\n",
              "      <td>2022 November</td>\n",
              "      <td>2022-11-01</td>\n",
              "      <td>786</td>\n",
              "      <td>200</td>\n",
              "      <td>56</td>\n",
              "      <td>50</td>\n",
              "      <td>25.445293</td>\n",
              "      <td>28.000000</td>\n",
              "      <td>89.285714</td>\n",
              "    </tr>\n",
              "    <tr>\n",
              "      <th>3</th>\n",
              "      <td>2022 December</td>\n",
              "      <td>2022-12-01</td>\n",
              "      <td>805</td>\n",
              "      <td>196</td>\n",
              "      <td>57</td>\n",
              "      <td>33</td>\n",
              "      <td>24.347826</td>\n",
              "      <td>29.081633</td>\n",
              "      <td>57.894737</td>\n",
              "    </tr>\n",
              "    <tr>\n",
              "      <th>4</th>\n",
              "      <td>2023 January</td>\n",
              "      <td>2023-01-01</td>\n",
              "      <td>852</td>\n",
              "      <td>213</td>\n",
              "      <td>64</td>\n",
              "      <td>20</td>\n",
              "      <td>25.000000</td>\n",
              "      <td>30.046948</td>\n",
              "      <td>31.250000</td>\n",
              "    </tr>\n",
              "    <tr>\n",
              "      <th>5</th>\n",
              "      <td>2023 February</td>\n",
              "      <td>2023-02-01</td>\n",
              "      <td>32</td>\n",
              "      <td>8</td>\n",
              "      <td>0</td>\n",
              "      <td>0</td>\n",
              "      <td>25.000000</td>\n",
              "      <td>0.000000</td>\n",
              "      <td>NaN</td>\n",
              "    </tr>\n",
              "  </tbody>\n",
              "</table>\n",
              "</div>"
            ],
            "text/plain": [
              "       year_month first_day_of_month  visitors  registered  applied  played  \\\n",
              "0  2022 September         2022-09-01       778         190       51      39   \n",
              "1  2022 October           2022-10-01       843         217       65      56   \n",
              "2  2022 November          2022-11-01       786         200       56      50   \n",
              "3  2022 December          2022-12-01       805         196       57      33   \n",
              "4  2023 January           2023-01-01       852         213       64      20   \n",
              "5  2023 February          2023-02-01        32           8        0       0   \n",
              "\n",
              "   conversion_reg  conversion_app  conversion_game  \n",
              "0       24.421594       26.842105        76.470588  \n",
              "1       25.741400       29.953917        86.153846  \n",
              "2       25.445293       28.000000        89.285714  \n",
              "3       24.347826       29.081633        57.894737  \n",
              "4       25.000000       30.046948        31.250000  \n",
              "5       25.000000        0.000000              NaN  "
            ]
          },
          "execution_count": 7,
          "metadata": {},
          "output_type": "execute_result"
        }
      ],
      "source": [
        "#считаю конверсию регистрации\n",
        "df_months['conversion_reg']=df_months['registered']/df_months['visitors']*100\n",
        "\n",
        "#считаю конверсию подавших на игру (долю подавших от зареганых)\n",
        "df_months['conversion_app']=df_months['applied']/df_months['registered']*100\n",
        "\n",
        "#считаю конверсию подавших на игру (долю подавших от зареганых)\n",
        "df_months['conversion_game']=df_months['played']/df_months['applied']*100\n",
        "\n",
        "df_months.head(10)"
      ]
    },
    {
      "cell_type": "code",
      "execution_count": 8,
      "metadata": {},
      "outputs": [
        {
          "data": {
            "application/vnd.plotly.v1+json": {
              "config": {
                "plotlyServerURL": "https://plot.ly"
              },
              "data": [
                {
                  "marker": {
                    "color": "red"
                  },
                  "mode": "lines+markers+text",
                  "name": "Посещения сайта",
                  "text": [
                    778,
                    843,
                    786,
                    805,
                    852,
                    32
                  ],
                  "textposition": "top center",
                  "type": "scatter",
                  "x": [
                    "2022 September",
                    "2022 October  ",
                    "2022 November ",
                    "2022 December ",
                    "2023 January  ",
                    "2023 February "
                  ],
                  "y": [
                    778,
                    843,
                    786,
                    805,
                    852,
                    32
                  ]
                },
                {
                  "marker": {
                    "color": "blue"
                  },
                  "mode": "lines+markers+text",
                  "name": "Регистрации",
                  "text": [
                    190,
                    217,
                    200,
                    196,
                    213,
                    8
                  ],
                  "textposition": "top center",
                  "type": "scatter",
                  "x": [
                    "2022 September",
                    "2022 October  ",
                    "2022 November ",
                    "2022 December ",
                    "2023 January  ",
                    "2023 February "
                  ],
                  "y": [
                    190,
                    217,
                    200,
                    196,
                    213,
                    8
                  ]
                },
                {
                  "marker": {
                    "color": "purple"
                  },
                  "name": "Подали заявку на игру",
                  "text": [
                    51,
                    65,
                    56,
                    57,
                    64,
                    0
                  ],
                  "type": "scatter",
                  "x": [
                    "2022 September",
                    "2022 October  ",
                    "2022 November ",
                    "2022 December ",
                    "2023 January  ",
                    "2023 February "
                  ],
                  "y": [
                    51,
                    65,
                    56,
                    57,
                    64,
                    0
                  ]
                },
                {
                  "marker": {
                    "color": "yellow"
                  },
                  "mode": "lines+markers",
                  "name": "Пришли на игру",
                  "text": [
                    51,
                    65,
                    56,
                    57,
                    64,
                    0
                  ],
                  "type": "scatter",
                  "x": [
                    "2022 September",
                    "2022 October  ",
                    "2022 November ",
                    "2022 December ",
                    "2023 January  ",
                    "2023 February "
                  ],
                  "y": [
                    39,
                    56,
                    50,
                    33,
                    20,
                    0
                  ]
                }
              ],
              "layout": {
                "legend": {
                  "orientation": "h"
                },
                "template": {
                  "data": {
                    "bar": [
                      {
                        "error_x": {
                          "color": "#2a3f5f"
                        },
                        "error_y": {
                          "color": "#2a3f5f"
                        },
                        "marker": {
                          "line": {
                            "color": "#E5ECF6",
                            "width": 0.5
                          },
                          "pattern": {
                            "fillmode": "overlay",
                            "size": 10,
                            "solidity": 0.2
                          }
                        },
                        "type": "bar"
                      }
                    ],
                    "barpolar": [
                      {
                        "marker": {
                          "line": {
                            "color": "#E5ECF6",
                            "width": 0.5
                          },
                          "pattern": {
                            "fillmode": "overlay",
                            "size": 10,
                            "solidity": 0.2
                          }
                        },
                        "type": "barpolar"
                      }
                    ],
                    "carpet": [
                      {
                        "aaxis": {
                          "endlinecolor": "#2a3f5f",
                          "gridcolor": "white",
                          "linecolor": "white",
                          "minorgridcolor": "white",
                          "startlinecolor": "#2a3f5f"
                        },
                        "baxis": {
                          "endlinecolor": "#2a3f5f",
                          "gridcolor": "white",
                          "linecolor": "white",
                          "minorgridcolor": "white",
                          "startlinecolor": "#2a3f5f"
                        },
                        "type": "carpet"
                      }
                    ],
                    "choropleth": [
                      {
                        "colorbar": {
                          "outlinewidth": 0,
                          "ticks": ""
                        },
                        "type": "choropleth"
                      }
                    ],
                    "contour": [
                      {
                        "colorbar": {
                          "outlinewidth": 0,
                          "ticks": ""
                        },
                        "colorscale": [
                          [
                            0,
                            "#0d0887"
                          ],
                          [
                            0.1111111111111111,
                            "#46039f"
                          ],
                          [
                            0.2222222222222222,
                            "#7201a8"
                          ],
                          [
                            0.3333333333333333,
                            "#9c179e"
                          ],
                          [
                            0.4444444444444444,
                            "#bd3786"
                          ],
                          [
                            0.5555555555555556,
                            "#d8576b"
                          ],
                          [
                            0.6666666666666666,
                            "#ed7953"
                          ],
                          [
                            0.7777777777777778,
                            "#fb9f3a"
                          ],
                          [
                            0.8888888888888888,
                            "#fdca26"
                          ],
                          [
                            1,
                            "#f0f921"
                          ]
                        ],
                        "type": "contour"
                      }
                    ],
                    "contourcarpet": [
                      {
                        "colorbar": {
                          "outlinewidth": 0,
                          "ticks": ""
                        },
                        "type": "contourcarpet"
                      }
                    ],
                    "heatmap": [
                      {
                        "colorbar": {
                          "outlinewidth": 0,
                          "ticks": ""
                        },
                        "colorscale": [
                          [
                            0,
                            "#0d0887"
                          ],
                          [
                            0.1111111111111111,
                            "#46039f"
                          ],
                          [
                            0.2222222222222222,
                            "#7201a8"
                          ],
                          [
                            0.3333333333333333,
                            "#9c179e"
                          ],
                          [
                            0.4444444444444444,
                            "#bd3786"
                          ],
                          [
                            0.5555555555555556,
                            "#d8576b"
                          ],
                          [
                            0.6666666666666666,
                            "#ed7953"
                          ],
                          [
                            0.7777777777777778,
                            "#fb9f3a"
                          ],
                          [
                            0.8888888888888888,
                            "#fdca26"
                          ],
                          [
                            1,
                            "#f0f921"
                          ]
                        ],
                        "type": "heatmap"
                      }
                    ],
                    "heatmapgl": [
                      {
                        "colorbar": {
                          "outlinewidth": 0,
                          "ticks": ""
                        },
                        "colorscale": [
                          [
                            0,
                            "#0d0887"
                          ],
                          [
                            0.1111111111111111,
                            "#46039f"
                          ],
                          [
                            0.2222222222222222,
                            "#7201a8"
                          ],
                          [
                            0.3333333333333333,
                            "#9c179e"
                          ],
                          [
                            0.4444444444444444,
                            "#bd3786"
                          ],
                          [
                            0.5555555555555556,
                            "#d8576b"
                          ],
                          [
                            0.6666666666666666,
                            "#ed7953"
                          ],
                          [
                            0.7777777777777778,
                            "#fb9f3a"
                          ],
                          [
                            0.8888888888888888,
                            "#fdca26"
                          ],
                          [
                            1,
                            "#f0f921"
                          ]
                        ],
                        "type": "heatmapgl"
                      }
                    ],
                    "histogram": [
                      {
                        "marker": {
                          "pattern": {
                            "fillmode": "overlay",
                            "size": 10,
                            "solidity": 0.2
                          }
                        },
                        "type": "histogram"
                      }
                    ],
                    "histogram2d": [
                      {
                        "colorbar": {
                          "outlinewidth": 0,
                          "ticks": ""
                        },
                        "colorscale": [
                          [
                            0,
                            "#0d0887"
                          ],
                          [
                            0.1111111111111111,
                            "#46039f"
                          ],
                          [
                            0.2222222222222222,
                            "#7201a8"
                          ],
                          [
                            0.3333333333333333,
                            "#9c179e"
                          ],
                          [
                            0.4444444444444444,
                            "#bd3786"
                          ],
                          [
                            0.5555555555555556,
                            "#d8576b"
                          ],
                          [
                            0.6666666666666666,
                            "#ed7953"
                          ],
                          [
                            0.7777777777777778,
                            "#fb9f3a"
                          ],
                          [
                            0.8888888888888888,
                            "#fdca26"
                          ],
                          [
                            1,
                            "#f0f921"
                          ]
                        ],
                        "type": "histogram2d"
                      }
                    ],
                    "histogram2dcontour": [
                      {
                        "colorbar": {
                          "outlinewidth": 0,
                          "ticks": ""
                        },
                        "colorscale": [
                          [
                            0,
                            "#0d0887"
                          ],
                          [
                            0.1111111111111111,
                            "#46039f"
                          ],
                          [
                            0.2222222222222222,
                            "#7201a8"
                          ],
                          [
                            0.3333333333333333,
                            "#9c179e"
                          ],
                          [
                            0.4444444444444444,
                            "#bd3786"
                          ],
                          [
                            0.5555555555555556,
                            "#d8576b"
                          ],
                          [
                            0.6666666666666666,
                            "#ed7953"
                          ],
                          [
                            0.7777777777777778,
                            "#fb9f3a"
                          ],
                          [
                            0.8888888888888888,
                            "#fdca26"
                          ],
                          [
                            1,
                            "#f0f921"
                          ]
                        ],
                        "type": "histogram2dcontour"
                      }
                    ],
                    "mesh3d": [
                      {
                        "colorbar": {
                          "outlinewidth": 0,
                          "ticks": ""
                        },
                        "type": "mesh3d"
                      }
                    ],
                    "parcoords": [
                      {
                        "line": {
                          "colorbar": {
                            "outlinewidth": 0,
                            "ticks": ""
                          }
                        },
                        "type": "parcoords"
                      }
                    ],
                    "pie": [
                      {
                        "automargin": true,
                        "type": "pie"
                      }
                    ],
                    "scatter": [
                      {
                        "fillpattern": {
                          "fillmode": "overlay",
                          "size": 10,
                          "solidity": 0.2
                        },
                        "type": "scatter"
                      }
                    ],
                    "scatter3d": [
                      {
                        "line": {
                          "colorbar": {
                            "outlinewidth": 0,
                            "ticks": ""
                          }
                        },
                        "marker": {
                          "colorbar": {
                            "outlinewidth": 0,
                            "ticks": ""
                          }
                        },
                        "type": "scatter3d"
                      }
                    ],
                    "scattercarpet": [
                      {
                        "marker": {
                          "colorbar": {
                            "outlinewidth": 0,
                            "ticks": ""
                          }
                        },
                        "type": "scattercarpet"
                      }
                    ],
                    "scattergeo": [
                      {
                        "marker": {
                          "colorbar": {
                            "outlinewidth": 0,
                            "ticks": ""
                          }
                        },
                        "type": "scattergeo"
                      }
                    ],
                    "scattergl": [
                      {
                        "marker": {
                          "colorbar": {
                            "outlinewidth": 0,
                            "ticks": ""
                          }
                        },
                        "type": "scattergl"
                      }
                    ],
                    "scattermapbox": [
                      {
                        "marker": {
                          "colorbar": {
                            "outlinewidth": 0,
                            "ticks": ""
                          }
                        },
                        "type": "scattermapbox"
                      }
                    ],
                    "scatterpolar": [
                      {
                        "marker": {
                          "colorbar": {
                            "outlinewidth": 0,
                            "ticks": ""
                          }
                        },
                        "type": "scatterpolar"
                      }
                    ],
                    "scatterpolargl": [
                      {
                        "marker": {
                          "colorbar": {
                            "outlinewidth": 0,
                            "ticks": ""
                          }
                        },
                        "type": "scatterpolargl"
                      }
                    ],
                    "scatterternary": [
                      {
                        "marker": {
                          "colorbar": {
                            "outlinewidth": 0,
                            "ticks": ""
                          }
                        },
                        "type": "scatterternary"
                      }
                    ],
                    "surface": [
                      {
                        "colorbar": {
                          "outlinewidth": 0,
                          "ticks": ""
                        },
                        "colorscale": [
                          [
                            0,
                            "#0d0887"
                          ],
                          [
                            0.1111111111111111,
                            "#46039f"
                          ],
                          [
                            0.2222222222222222,
                            "#7201a8"
                          ],
                          [
                            0.3333333333333333,
                            "#9c179e"
                          ],
                          [
                            0.4444444444444444,
                            "#bd3786"
                          ],
                          [
                            0.5555555555555556,
                            "#d8576b"
                          ],
                          [
                            0.6666666666666666,
                            "#ed7953"
                          ],
                          [
                            0.7777777777777778,
                            "#fb9f3a"
                          ],
                          [
                            0.8888888888888888,
                            "#fdca26"
                          ],
                          [
                            1,
                            "#f0f921"
                          ]
                        ],
                        "type": "surface"
                      }
                    ],
                    "table": [
                      {
                        "cells": {
                          "fill": {
                            "color": "#EBF0F8"
                          },
                          "line": {
                            "color": "white"
                          }
                        },
                        "header": {
                          "fill": {
                            "color": "#C8D4E3"
                          },
                          "line": {
                            "color": "white"
                          }
                        },
                        "type": "table"
                      }
                    ]
                  },
                  "layout": {
                    "annotationdefaults": {
                      "arrowcolor": "#2a3f5f",
                      "arrowhead": 0,
                      "arrowwidth": 1
                    },
                    "autotypenumbers": "strict",
                    "coloraxis": {
                      "colorbar": {
                        "outlinewidth": 0,
                        "ticks": ""
                      }
                    },
                    "colorscale": {
                      "diverging": [
                        [
                          0,
                          "#8e0152"
                        ],
                        [
                          0.1,
                          "#c51b7d"
                        ],
                        [
                          0.2,
                          "#de77ae"
                        ],
                        [
                          0.3,
                          "#f1b6da"
                        ],
                        [
                          0.4,
                          "#fde0ef"
                        ],
                        [
                          0.5,
                          "#f7f7f7"
                        ],
                        [
                          0.6,
                          "#e6f5d0"
                        ],
                        [
                          0.7,
                          "#b8e186"
                        ],
                        [
                          0.8,
                          "#7fbc41"
                        ],
                        [
                          0.9,
                          "#4d9221"
                        ],
                        [
                          1,
                          "#276419"
                        ]
                      ],
                      "sequential": [
                        [
                          0,
                          "#0d0887"
                        ],
                        [
                          0.1111111111111111,
                          "#46039f"
                        ],
                        [
                          0.2222222222222222,
                          "#7201a8"
                        ],
                        [
                          0.3333333333333333,
                          "#9c179e"
                        ],
                        [
                          0.4444444444444444,
                          "#bd3786"
                        ],
                        [
                          0.5555555555555556,
                          "#d8576b"
                        ],
                        [
                          0.6666666666666666,
                          "#ed7953"
                        ],
                        [
                          0.7777777777777778,
                          "#fb9f3a"
                        ],
                        [
                          0.8888888888888888,
                          "#fdca26"
                        ],
                        [
                          1,
                          "#f0f921"
                        ]
                      ],
                      "sequentialminus": [
                        [
                          0,
                          "#0d0887"
                        ],
                        [
                          0.1111111111111111,
                          "#46039f"
                        ],
                        [
                          0.2222222222222222,
                          "#7201a8"
                        ],
                        [
                          0.3333333333333333,
                          "#9c179e"
                        ],
                        [
                          0.4444444444444444,
                          "#bd3786"
                        ],
                        [
                          0.5555555555555556,
                          "#d8576b"
                        ],
                        [
                          0.6666666666666666,
                          "#ed7953"
                        ],
                        [
                          0.7777777777777778,
                          "#fb9f3a"
                        ],
                        [
                          0.8888888888888888,
                          "#fdca26"
                        ],
                        [
                          1,
                          "#f0f921"
                        ]
                      ]
                    },
                    "colorway": [
                      "#636efa",
                      "#EF553B",
                      "#00cc96",
                      "#ab63fa",
                      "#FFA15A",
                      "#19d3f3",
                      "#FF6692",
                      "#B6E880",
                      "#FF97FF",
                      "#FECB52"
                    ],
                    "font": {
                      "color": "#2a3f5f"
                    },
                    "geo": {
                      "bgcolor": "white",
                      "lakecolor": "white",
                      "landcolor": "#E5ECF6",
                      "showlakes": true,
                      "showland": true,
                      "subunitcolor": "white"
                    },
                    "hoverlabel": {
                      "align": "left"
                    },
                    "hovermode": "closest",
                    "mapbox": {
                      "style": "light"
                    },
                    "paper_bgcolor": "white",
                    "plot_bgcolor": "#E5ECF6",
                    "polar": {
                      "angularaxis": {
                        "gridcolor": "white",
                        "linecolor": "white",
                        "ticks": ""
                      },
                      "bgcolor": "#E5ECF6",
                      "radialaxis": {
                        "gridcolor": "white",
                        "linecolor": "white",
                        "ticks": ""
                      }
                    },
                    "scene": {
                      "xaxis": {
                        "backgroundcolor": "#E5ECF6",
                        "gridcolor": "white",
                        "gridwidth": 2,
                        "linecolor": "white",
                        "showbackground": true,
                        "ticks": "",
                        "zerolinecolor": "white"
                      },
                      "yaxis": {
                        "backgroundcolor": "#E5ECF6",
                        "gridcolor": "white",
                        "gridwidth": 2,
                        "linecolor": "white",
                        "showbackground": true,
                        "ticks": "",
                        "zerolinecolor": "white"
                      },
                      "zaxis": {
                        "backgroundcolor": "#E5ECF6",
                        "gridcolor": "white",
                        "gridwidth": 2,
                        "linecolor": "white",
                        "showbackground": true,
                        "ticks": "",
                        "zerolinecolor": "white"
                      }
                    },
                    "shapedefaults": {
                      "line": {
                        "color": "#2a3f5f"
                      }
                    },
                    "ternary": {
                      "aaxis": {
                        "gridcolor": "white",
                        "linecolor": "white",
                        "ticks": ""
                      },
                      "baxis": {
                        "gridcolor": "white",
                        "linecolor": "white",
                        "ticks": ""
                      },
                      "bgcolor": "#E5ECF6",
                      "caxis": {
                        "gridcolor": "white",
                        "linecolor": "white",
                        "ticks": ""
                      }
                    },
                    "title": {
                      "x": 0.05
                    },
                    "xaxis": {
                      "automargin": true,
                      "gridcolor": "white",
                      "linecolor": "white",
                      "ticks": "",
                      "title": {
                        "standoff": 15
                      },
                      "zerolinecolor": "white",
                      "zerolinewidth": 2
                    },
                    "yaxis": {
                      "automargin": true,
                      "gridcolor": "white",
                      "linecolor": "white",
                      "ticks": "",
                      "title": {
                        "standoff": 15
                      },
                      "zerolinecolor": "white",
                      "zerolinewidth": 2
                    }
                  }
                },
                "title": {
                  "text": "Общее количество по месяцам"
                },
                "yaxis": {
                  "range": [
                    0,
                    1000
                  ],
                  "side": "left",
                  "title": {
                    "text": "Количество"
                  }
                }
              }
            }
          },
          "metadata": {},
          "output_type": "display_data"
        }
      ],
      "source": [
        "#строю график по общему количеству\n",
        "\n",
        "fig = go.Figure()\n",
        "\n",
        "fig.add_trace(go.Scatter(\n",
        "    x=df_months['year_month'],\n",
        "    y=df_months['visitors'],\n",
        "    name=\"Посещения сайта\",\n",
        "    marker_color='red',\n",
        "    mode='lines+markers+text',\n",
        "    text=df_months['visitors'],\n",
        "    textposition=\"top center\"\n",
        "))\n",
        "\n",
        "fig.add_trace(go.Scatter(\n",
        "    x=df_months['year_month'],\n",
        "    y=df_months['registered'],\n",
        "    name=\"Регистрации\",\n",
        "    marker_color='blue',\n",
        "    mode='lines+markers+text',\n",
        "    text=df_months['registered'],\n",
        "    textposition=\"top center\"\n",
        "))\n",
        "\n",
        "fig.add_trace(go.Scatter(\n",
        "    x=df_months['year_month'],\n",
        "    y=df_months['applied'],\n",
        "    name=\"Подали заявку на игру\",\n",
        "    marker_color='purple',\n",
        "    text=df_months['applied']\n",
        "))\n",
        "\n",
        "fig.add_trace(go.Scatter(\n",
        "    x=df_months['year_month'],\n",
        "    y=df_months['played'],\n",
        "    mode='lines+markers', \n",
        "    name='Пришли на игру',\n",
        "    marker_color='yellow',\n",
        "    text=df_months['applied']\n",
        "))\n",
        "\n",
        "fig.update_layout(\n",
        "    legend=dict(orientation=\"h\"),\n",
        "    title='Общее количество по месяцам',\n",
        "    yaxis=dict(\n",
        "        title=dict(text=\"Количество\"),\n",
        "        side=\"left\",\n",
        "        range=[0, 1000]\n",
        "    )\n",
        ")\n",
        "\n",
        "fig.show()"
      ]
    },
    {
      "cell_type": "code",
      "execution_count": 9,
      "metadata": {
        "id": "OMR-itIvYvkW"
      },
      "outputs": [
        {
          "data": {
            "application/vnd.plotly.v1+json": {
              "config": {
                "plotlyServerURL": "https://plot.ly"
              },
              "data": [
                {
                  "marker": {
                    "color": "tan"
                  },
                  "name": "Доля тех кто зарегистрировался на сайте из посетивших, %",
                  "text": [
                    24.42,
                    25.74,
                    25.45,
                    24.35,
                    25,
                    25
                  ],
                  "type": "bar",
                  "x": [
                    "2022 September",
                    "2022 October  ",
                    "2022 November ",
                    "2022 December ",
                    "2023 January  ",
                    "2023 February "
                  ],
                  "y": [
                    24.42159383033419,
                    25.741399762752078,
                    25.44529262086514,
                    24.347826086956523,
                    25,
                    25
                  ]
                },
                {
                  "marker": {
                    "color": "navajowhite"
                  },
                  "name": "Доля тех кто подал на игру из зарегистрированных, %",
                  "text": [
                    26.84,
                    29.95,
                    28,
                    29.08,
                    30.05,
                    0
                  ],
                  "type": "bar",
                  "x": [
                    "2022 September",
                    "2022 October  ",
                    "2022 November ",
                    "2022 December ",
                    "2023 January  ",
                    "2023 February "
                  ],
                  "y": [
                    26.842105263157894,
                    29.953917050691242,
                    28.000000000000004,
                    29.081632653061224,
                    30.046948356807512,
                    0
                  ]
                },
                {
                  "marker": {
                    "color": "blanchedalmond"
                  },
                  "name": "Доля тех кто пришел на игру из подавших, %",
                  "text": [
                    76.47,
                    86.15,
                    89.29,
                    57.89,
                    31.25,
                    null
                  ],
                  "type": "bar",
                  "x": [
                    "2022 September",
                    "2022 October  ",
                    "2022 November ",
                    "2022 December ",
                    "2023 January  ",
                    "2023 February "
                  ],
                  "y": [
                    76.47058823529412,
                    86.15384615384616,
                    89.28571428571429,
                    57.89473684210527,
                    31.25,
                    null
                  ]
                }
              ],
              "layout": {
                "legend": {
                  "orientation": "h"
                },
                "template": {
                  "data": {
                    "bar": [
                      {
                        "error_x": {
                          "color": "#2a3f5f"
                        },
                        "error_y": {
                          "color": "#2a3f5f"
                        },
                        "marker": {
                          "line": {
                            "color": "#E5ECF6",
                            "width": 0.5
                          },
                          "pattern": {
                            "fillmode": "overlay",
                            "size": 10,
                            "solidity": 0.2
                          }
                        },
                        "type": "bar"
                      }
                    ],
                    "barpolar": [
                      {
                        "marker": {
                          "line": {
                            "color": "#E5ECF6",
                            "width": 0.5
                          },
                          "pattern": {
                            "fillmode": "overlay",
                            "size": 10,
                            "solidity": 0.2
                          }
                        },
                        "type": "barpolar"
                      }
                    ],
                    "carpet": [
                      {
                        "aaxis": {
                          "endlinecolor": "#2a3f5f",
                          "gridcolor": "white",
                          "linecolor": "white",
                          "minorgridcolor": "white",
                          "startlinecolor": "#2a3f5f"
                        },
                        "baxis": {
                          "endlinecolor": "#2a3f5f",
                          "gridcolor": "white",
                          "linecolor": "white",
                          "minorgridcolor": "white",
                          "startlinecolor": "#2a3f5f"
                        },
                        "type": "carpet"
                      }
                    ],
                    "choropleth": [
                      {
                        "colorbar": {
                          "outlinewidth": 0,
                          "ticks": ""
                        },
                        "type": "choropleth"
                      }
                    ],
                    "contour": [
                      {
                        "colorbar": {
                          "outlinewidth": 0,
                          "ticks": ""
                        },
                        "colorscale": [
                          [
                            0,
                            "#0d0887"
                          ],
                          [
                            0.1111111111111111,
                            "#46039f"
                          ],
                          [
                            0.2222222222222222,
                            "#7201a8"
                          ],
                          [
                            0.3333333333333333,
                            "#9c179e"
                          ],
                          [
                            0.4444444444444444,
                            "#bd3786"
                          ],
                          [
                            0.5555555555555556,
                            "#d8576b"
                          ],
                          [
                            0.6666666666666666,
                            "#ed7953"
                          ],
                          [
                            0.7777777777777778,
                            "#fb9f3a"
                          ],
                          [
                            0.8888888888888888,
                            "#fdca26"
                          ],
                          [
                            1,
                            "#f0f921"
                          ]
                        ],
                        "type": "contour"
                      }
                    ],
                    "contourcarpet": [
                      {
                        "colorbar": {
                          "outlinewidth": 0,
                          "ticks": ""
                        },
                        "type": "contourcarpet"
                      }
                    ],
                    "heatmap": [
                      {
                        "colorbar": {
                          "outlinewidth": 0,
                          "ticks": ""
                        },
                        "colorscale": [
                          [
                            0,
                            "#0d0887"
                          ],
                          [
                            0.1111111111111111,
                            "#46039f"
                          ],
                          [
                            0.2222222222222222,
                            "#7201a8"
                          ],
                          [
                            0.3333333333333333,
                            "#9c179e"
                          ],
                          [
                            0.4444444444444444,
                            "#bd3786"
                          ],
                          [
                            0.5555555555555556,
                            "#d8576b"
                          ],
                          [
                            0.6666666666666666,
                            "#ed7953"
                          ],
                          [
                            0.7777777777777778,
                            "#fb9f3a"
                          ],
                          [
                            0.8888888888888888,
                            "#fdca26"
                          ],
                          [
                            1,
                            "#f0f921"
                          ]
                        ],
                        "type": "heatmap"
                      }
                    ],
                    "heatmapgl": [
                      {
                        "colorbar": {
                          "outlinewidth": 0,
                          "ticks": ""
                        },
                        "colorscale": [
                          [
                            0,
                            "#0d0887"
                          ],
                          [
                            0.1111111111111111,
                            "#46039f"
                          ],
                          [
                            0.2222222222222222,
                            "#7201a8"
                          ],
                          [
                            0.3333333333333333,
                            "#9c179e"
                          ],
                          [
                            0.4444444444444444,
                            "#bd3786"
                          ],
                          [
                            0.5555555555555556,
                            "#d8576b"
                          ],
                          [
                            0.6666666666666666,
                            "#ed7953"
                          ],
                          [
                            0.7777777777777778,
                            "#fb9f3a"
                          ],
                          [
                            0.8888888888888888,
                            "#fdca26"
                          ],
                          [
                            1,
                            "#f0f921"
                          ]
                        ],
                        "type": "heatmapgl"
                      }
                    ],
                    "histogram": [
                      {
                        "marker": {
                          "pattern": {
                            "fillmode": "overlay",
                            "size": 10,
                            "solidity": 0.2
                          }
                        },
                        "type": "histogram"
                      }
                    ],
                    "histogram2d": [
                      {
                        "colorbar": {
                          "outlinewidth": 0,
                          "ticks": ""
                        },
                        "colorscale": [
                          [
                            0,
                            "#0d0887"
                          ],
                          [
                            0.1111111111111111,
                            "#46039f"
                          ],
                          [
                            0.2222222222222222,
                            "#7201a8"
                          ],
                          [
                            0.3333333333333333,
                            "#9c179e"
                          ],
                          [
                            0.4444444444444444,
                            "#bd3786"
                          ],
                          [
                            0.5555555555555556,
                            "#d8576b"
                          ],
                          [
                            0.6666666666666666,
                            "#ed7953"
                          ],
                          [
                            0.7777777777777778,
                            "#fb9f3a"
                          ],
                          [
                            0.8888888888888888,
                            "#fdca26"
                          ],
                          [
                            1,
                            "#f0f921"
                          ]
                        ],
                        "type": "histogram2d"
                      }
                    ],
                    "histogram2dcontour": [
                      {
                        "colorbar": {
                          "outlinewidth": 0,
                          "ticks": ""
                        },
                        "colorscale": [
                          [
                            0,
                            "#0d0887"
                          ],
                          [
                            0.1111111111111111,
                            "#46039f"
                          ],
                          [
                            0.2222222222222222,
                            "#7201a8"
                          ],
                          [
                            0.3333333333333333,
                            "#9c179e"
                          ],
                          [
                            0.4444444444444444,
                            "#bd3786"
                          ],
                          [
                            0.5555555555555556,
                            "#d8576b"
                          ],
                          [
                            0.6666666666666666,
                            "#ed7953"
                          ],
                          [
                            0.7777777777777778,
                            "#fb9f3a"
                          ],
                          [
                            0.8888888888888888,
                            "#fdca26"
                          ],
                          [
                            1,
                            "#f0f921"
                          ]
                        ],
                        "type": "histogram2dcontour"
                      }
                    ],
                    "mesh3d": [
                      {
                        "colorbar": {
                          "outlinewidth": 0,
                          "ticks": ""
                        },
                        "type": "mesh3d"
                      }
                    ],
                    "parcoords": [
                      {
                        "line": {
                          "colorbar": {
                            "outlinewidth": 0,
                            "ticks": ""
                          }
                        },
                        "type": "parcoords"
                      }
                    ],
                    "pie": [
                      {
                        "automargin": true,
                        "type": "pie"
                      }
                    ],
                    "scatter": [
                      {
                        "fillpattern": {
                          "fillmode": "overlay",
                          "size": 10,
                          "solidity": 0.2
                        },
                        "type": "scatter"
                      }
                    ],
                    "scatter3d": [
                      {
                        "line": {
                          "colorbar": {
                            "outlinewidth": 0,
                            "ticks": ""
                          }
                        },
                        "marker": {
                          "colorbar": {
                            "outlinewidth": 0,
                            "ticks": ""
                          }
                        },
                        "type": "scatter3d"
                      }
                    ],
                    "scattercarpet": [
                      {
                        "marker": {
                          "colorbar": {
                            "outlinewidth": 0,
                            "ticks": ""
                          }
                        },
                        "type": "scattercarpet"
                      }
                    ],
                    "scattergeo": [
                      {
                        "marker": {
                          "colorbar": {
                            "outlinewidth": 0,
                            "ticks": ""
                          }
                        },
                        "type": "scattergeo"
                      }
                    ],
                    "scattergl": [
                      {
                        "marker": {
                          "colorbar": {
                            "outlinewidth": 0,
                            "ticks": ""
                          }
                        },
                        "type": "scattergl"
                      }
                    ],
                    "scattermapbox": [
                      {
                        "marker": {
                          "colorbar": {
                            "outlinewidth": 0,
                            "ticks": ""
                          }
                        },
                        "type": "scattermapbox"
                      }
                    ],
                    "scatterpolar": [
                      {
                        "marker": {
                          "colorbar": {
                            "outlinewidth": 0,
                            "ticks": ""
                          }
                        },
                        "type": "scatterpolar"
                      }
                    ],
                    "scatterpolargl": [
                      {
                        "marker": {
                          "colorbar": {
                            "outlinewidth": 0,
                            "ticks": ""
                          }
                        },
                        "type": "scatterpolargl"
                      }
                    ],
                    "scatterternary": [
                      {
                        "marker": {
                          "colorbar": {
                            "outlinewidth": 0,
                            "ticks": ""
                          }
                        },
                        "type": "scatterternary"
                      }
                    ],
                    "surface": [
                      {
                        "colorbar": {
                          "outlinewidth": 0,
                          "ticks": ""
                        },
                        "colorscale": [
                          [
                            0,
                            "#0d0887"
                          ],
                          [
                            0.1111111111111111,
                            "#46039f"
                          ],
                          [
                            0.2222222222222222,
                            "#7201a8"
                          ],
                          [
                            0.3333333333333333,
                            "#9c179e"
                          ],
                          [
                            0.4444444444444444,
                            "#bd3786"
                          ],
                          [
                            0.5555555555555556,
                            "#d8576b"
                          ],
                          [
                            0.6666666666666666,
                            "#ed7953"
                          ],
                          [
                            0.7777777777777778,
                            "#fb9f3a"
                          ],
                          [
                            0.8888888888888888,
                            "#fdca26"
                          ],
                          [
                            1,
                            "#f0f921"
                          ]
                        ],
                        "type": "surface"
                      }
                    ],
                    "table": [
                      {
                        "cells": {
                          "fill": {
                            "color": "#EBF0F8"
                          },
                          "line": {
                            "color": "white"
                          }
                        },
                        "header": {
                          "fill": {
                            "color": "#C8D4E3"
                          },
                          "line": {
                            "color": "white"
                          }
                        },
                        "type": "table"
                      }
                    ]
                  },
                  "layout": {
                    "annotationdefaults": {
                      "arrowcolor": "#2a3f5f",
                      "arrowhead": 0,
                      "arrowwidth": 1
                    },
                    "autotypenumbers": "strict",
                    "coloraxis": {
                      "colorbar": {
                        "outlinewidth": 0,
                        "ticks": ""
                      }
                    },
                    "colorscale": {
                      "diverging": [
                        [
                          0,
                          "#8e0152"
                        ],
                        [
                          0.1,
                          "#c51b7d"
                        ],
                        [
                          0.2,
                          "#de77ae"
                        ],
                        [
                          0.3,
                          "#f1b6da"
                        ],
                        [
                          0.4,
                          "#fde0ef"
                        ],
                        [
                          0.5,
                          "#f7f7f7"
                        ],
                        [
                          0.6,
                          "#e6f5d0"
                        ],
                        [
                          0.7,
                          "#b8e186"
                        ],
                        [
                          0.8,
                          "#7fbc41"
                        ],
                        [
                          0.9,
                          "#4d9221"
                        ],
                        [
                          1,
                          "#276419"
                        ]
                      ],
                      "sequential": [
                        [
                          0,
                          "#0d0887"
                        ],
                        [
                          0.1111111111111111,
                          "#46039f"
                        ],
                        [
                          0.2222222222222222,
                          "#7201a8"
                        ],
                        [
                          0.3333333333333333,
                          "#9c179e"
                        ],
                        [
                          0.4444444444444444,
                          "#bd3786"
                        ],
                        [
                          0.5555555555555556,
                          "#d8576b"
                        ],
                        [
                          0.6666666666666666,
                          "#ed7953"
                        ],
                        [
                          0.7777777777777778,
                          "#fb9f3a"
                        ],
                        [
                          0.8888888888888888,
                          "#fdca26"
                        ],
                        [
                          1,
                          "#f0f921"
                        ]
                      ],
                      "sequentialminus": [
                        [
                          0,
                          "#0d0887"
                        ],
                        [
                          0.1111111111111111,
                          "#46039f"
                        ],
                        [
                          0.2222222222222222,
                          "#7201a8"
                        ],
                        [
                          0.3333333333333333,
                          "#9c179e"
                        ],
                        [
                          0.4444444444444444,
                          "#bd3786"
                        ],
                        [
                          0.5555555555555556,
                          "#d8576b"
                        ],
                        [
                          0.6666666666666666,
                          "#ed7953"
                        ],
                        [
                          0.7777777777777778,
                          "#fb9f3a"
                        ],
                        [
                          0.8888888888888888,
                          "#fdca26"
                        ],
                        [
                          1,
                          "#f0f921"
                        ]
                      ]
                    },
                    "colorway": [
                      "#636efa",
                      "#EF553B",
                      "#00cc96",
                      "#ab63fa",
                      "#FFA15A",
                      "#19d3f3",
                      "#FF6692",
                      "#B6E880",
                      "#FF97FF",
                      "#FECB52"
                    ],
                    "font": {
                      "color": "#2a3f5f"
                    },
                    "geo": {
                      "bgcolor": "white",
                      "lakecolor": "white",
                      "landcolor": "#E5ECF6",
                      "showlakes": true,
                      "showland": true,
                      "subunitcolor": "white"
                    },
                    "hoverlabel": {
                      "align": "left"
                    },
                    "hovermode": "closest",
                    "mapbox": {
                      "style": "light"
                    },
                    "paper_bgcolor": "white",
                    "plot_bgcolor": "#E5ECF6",
                    "polar": {
                      "angularaxis": {
                        "gridcolor": "white",
                        "linecolor": "white",
                        "ticks": ""
                      },
                      "bgcolor": "#E5ECF6",
                      "radialaxis": {
                        "gridcolor": "white",
                        "linecolor": "white",
                        "ticks": ""
                      }
                    },
                    "scene": {
                      "xaxis": {
                        "backgroundcolor": "#E5ECF6",
                        "gridcolor": "white",
                        "gridwidth": 2,
                        "linecolor": "white",
                        "showbackground": true,
                        "ticks": "",
                        "zerolinecolor": "white"
                      },
                      "yaxis": {
                        "backgroundcolor": "#E5ECF6",
                        "gridcolor": "white",
                        "gridwidth": 2,
                        "linecolor": "white",
                        "showbackground": true,
                        "ticks": "",
                        "zerolinecolor": "white"
                      },
                      "zaxis": {
                        "backgroundcolor": "#E5ECF6",
                        "gridcolor": "white",
                        "gridwidth": 2,
                        "linecolor": "white",
                        "showbackground": true,
                        "ticks": "",
                        "zerolinecolor": "white"
                      }
                    },
                    "shapedefaults": {
                      "line": {
                        "color": "#2a3f5f"
                      }
                    },
                    "ternary": {
                      "aaxis": {
                        "gridcolor": "white",
                        "linecolor": "white",
                        "ticks": ""
                      },
                      "baxis": {
                        "gridcolor": "white",
                        "linecolor": "white",
                        "ticks": ""
                      },
                      "bgcolor": "#E5ECF6",
                      "caxis": {
                        "gridcolor": "white",
                        "linecolor": "white",
                        "ticks": ""
                      }
                    },
                    "title": {
                      "x": 0.05
                    },
                    "xaxis": {
                      "automargin": true,
                      "gridcolor": "white",
                      "linecolor": "white",
                      "ticks": "",
                      "title": {
                        "standoff": 15
                      },
                      "zerolinecolor": "white",
                      "zerolinewidth": 2
                    },
                    "yaxis": {
                      "automargin": true,
                      "gridcolor": "white",
                      "linecolor": "white",
                      "ticks": "",
                      "title": {
                        "standoff": 15
                      },
                      "zerolinecolor": "white",
                      "zerolinewidth": 2
                    }
                  }
                },
                "title": {
                  "text": "Конверсии по месяцам"
                },
                "yaxis": {
                  "range": [
                    0,
                    100
                  ],
                  "side": "left",
                  "title": {
                    "text": "Конверсия, %"
                  }
                },
                "yaxis2": {
                  "overlaying": "y",
                  "range": [
                    0,
                    900
                  ],
                  "side": "right",
                  "title": {
                    "text": "Посещения сайта"
                  }
                }
              }
            }
          },
          "metadata": {},
          "output_type": "display_data"
        }
      ],
      "source": [
        "#строю график \n",
        "\n",
        "fig = go.Figure()\n",
        "\n",
        "fig.add_trace(go.Bar(\n",
        "    x=df_months['year_month'],\n",
        "    y=df_months['conversion_reg'],\n",
        "    name=\"Доля тех кто зарегистрировался на сайте из посетивших, %\",\n",
        "    marker_color='tan',\n",
        "    text=df_months['conversion_reg'].round(2)\n",
        "))\n",
        "\n",
        "fig.add_trace(go.Bar(\n",
        "    x=df_months['year_month'],\n",
        "    y=df_months['conversion_app'],\n",
        "    name=\"Доля тех кто подал на игру из зарегистрированных, %\",\n",
        "    marker_color='navajowhite',\n",
        "    text=df_months['conversion_app'].round(2)\n",
        "))\n",
        "\n",
        "fig.add_trace(go.Bar(\n",
        "    x=df_months['year_month'],\n",
        "    y=df_months['conversion_game'],\n",
        "    name=\"Доля тех кто пришел на игру из подавших, %\",\n",
        "    marker_color='blanchedalmond',\n",
        "    text=df_months['conversion_game'].round(2)\n",
        "))\n",
        "\n",
        "fig.update_layout(\n",
        "    legend=dict(orientation=\"h\"),\n",
        "    title='Конверсии по месяцам',\n",
        "    yaxis=dict(\n",
        "        title=dict(text=\"Конверсия, %\"),\n",
        "        side=\"left\",\n",
        "        range=[0, 100]\n",
        "    ),\n",
        "    yaxis2=dict(\n",
        "        title=dict(text=\"Посещения сайта\"),\n",
        "        side=\"right\",\n",
        "        range=[0, 900],\n",
        "        overlaying=\"y\"\n",
        "    )\n",
        ")\n",
        "\n",
        "fig.show()"
      ]
    },
    {
      "cell_type": "code",
      "execution_count": 10,
      "metadata": {},
      "outputs": [
        {
          "data": {
            "application/vnd.plotly.v1+json": {
              "config": {
                "plotlyServerURL": "https://plot.ly"
              },
              "data": [
                {
                  "marker": {
                    "color": "tan"
                  },
                  "name": "Доля тех кто зарегистрировался на сайте из посетивших, %",
                  "text": [
                    24.42,
                    25.74,
                    25.45,
                    24.35,
                    25,
                    25
                  ],
                  "type": "bar",
                  "x": [
                    "2022 September",
                    "2022 October  ",
                    "2022 November ",
                    "2022 December ",
                    "2023 January  ",
                    "2023 February "
                  ],
                  "y": [
                    24.42159383033419,
                    25.741399762752078,
                    25.44529262086514,
                    24.347826086956523,
                    25,
                    25
                  ]
                },
                {
                  "marker": {
                    "color": "navajowhite"
                  },
                  "name": "Доля тех кто подал на игру из зарегистрированных, %",
                  "text": [
                    26.84,
                    29.95,
                    28,
                    29.08,
                    30.05,
                    0
                  ],
                  "type": "bar",
                  "x": [
                    "2022 September",
                    "2022 October  ",
                    "2022 November ",
                    "2022 December ",
                    "2023 January  ",
                    "2023 February "
                  ],
                  "y": [
                    26.842105263157894,
                    29.953917050691242,
                    28.000000000000004,
                    29.081632653061224,
                    30.046948356807512,
                    0
                  ]
                },
                {
                  "marker": {
                    "color": "blanchedalmond"
                  },
                  "name": "Доля тех кто пришел на игру из подавших, %",
                  "text": [
                    76.47,
                    86.15,
                    89.29,
                    57.89,
                    31.25,
                    null
                  ],
                  "type": "bar",
                  "x": [
                    "2022 September",
                    "2022 October  ",
                    "2022 November ",
                    "2022 December ",
                    "2023 January  ",
                    "2023 February "
                  ],
                  "y": [
                    76.47058823529412,
                    86.15384615384616,
                    89.28571428571429,
                    57.89473684210527,
                    31.25,
                    null
                  ]
                },
                {
                  "marker": {
                    "color": "red"
                  },
                  "mode": "lines+markers+text",
                  "name": "Количество посещений сайта",
                  "textposition": "top center",
                  "type": "scatter",
                  "x": [
                    "2022 September",
                    "2022 October  ",
                    "2022 November ",
                    "2022 December ",
                    "2023 January  ",
                    "2023 February "
                  ],
                  "y": [
                    778,
                    843,
                    786,
                    805,
                    852,
                    32
                  ],
                  "yaxis": "y2"
                },
                {
                  "marker": {
                    "color": "blue"
                  },
                  "name": "Регистрации",
                  "text": [
                    190,
                    217,
                    200,
                    196,
                    213,
                    8
                  ],
                  "type": "scatter",
                  "x": [
                    "2022 September",
                    "2022 October  ",
                    "2022 November ",
                    "2022 December ",
                    "2023 January  ",
                    "2023 February "
                  ],
                  "y": [
                    190,
                    217,
                    200,
                    196,
                    213,
                    8
                  ],
                  "yaxis": "y2"
                },
                {
                  "marker": {
                    "color": "purple"
                  },
                  "name": "Подали заявку на игру",
                  "text": [
                    51,
                    65,
                    56,
                    57,
                    64,
                    0
                  ],
                  "type": "scatter",
                  "x": [
                    "2022 September",
                    "2022 October  ",
                    "2022 November ",
                    "2022 December ",
                    "2023 January  ",
                    "2023 February "
                  ],
                  "y": [
                    51,
                    65,
                    56,
                    57,
                    64,
                    0
                  ],
                  "yaxis": "y2"
                },
                {
                  "marker": {
                    "color": "yellow"
                  },
                  "mode": "lines+markers",
                  "name": "Пришли на игру",
                  "text": [
                    39,
                    56,
                    50,
                    33,
                    20,
                    0
                  ],
                  "type": "scatter",
                  "x": [
                    "2022 September",
                    "2022 October  ",
                    "2022 November ",
                    "2022 December ",
                    "2023 January  ",
                    "2023 February "
                  ],
                  "y": [
                    39,
                    56,
                    50,
                    33,
                    20,
                    0
                  ],
                  "yaxis": "y2"
                }
              ],
              "layout": {
                "legend": {
                  "orientation": "h"
                },
                "template": {
                  "data": {
                    "bar": [
                      {
                        "error_x": {
                          "color": "#2a3f5f"
                        },
                        "error_y": {
                          "color": "#2a3f5f"
                        },
                        "marker": {
                          "line": {
                            "color": "#E5ECF6",
                            "width": 0.5
                          },
                          "pattern": {
                            "fillmode": "overlay",
                            "size": 10,
                            "solidity": 0.2
                          }
                        },
                        "type": "bar"
                      }
                    ],
                    "barpolar": [
                      {
                        "marker": {
                          "line": {
                            "color": "#E5ECF6",
                            "width": 0.5
                          },
                          "pattern": {
                            "fillmode": "overlay",
                            "size": 10,
                            "solidity": 0.2
                          }
                        },
                        "type": "barpolar"
                      }
                    ],
                    "carpet": [
                      {
                        "aaxis": {
                          "endlinecolor": "#2a3f5f",
                          "gridcolor": "white",
                          "linecolor": "white",
                          "minorgridcolor": "white",
                          "startlinecolor": "#2a3f5f"
                        },
                        "baxis": {
                          "endlinecolor": "#2a3f5f",
                          "gridcolor": "white",
                          "linecolor": "white",
                          "minorgridcolor": "white",
                          "startlinecolor": "#2a3f5f"
                        },
                        "type": "carpet"
                      }
                    ],
                    "choropleth": [
                      {
                        "colorbar": {
                          "outlinewidth": 0,
                          "ticks": ""
                        },
                        "type": "choropleth"
                      }
                    ],
                    "contour": [
                      {
                        "colorbar": {
                          "outlinewidth": 0,
                          "ticks": ""
                        },
                        "colorscale": [
                          [
                            0,
                            "#0d0887"
                          ],
                          [
                            0.1111111111111111,
                            "#46039f"
                          ],
                          [
                            0.2222222222222222,
                            "#7201a8"
                          ],
                          [
                            0.3333333333333333,
                            "#9c179e"
                          ],
                          [
                            0.4444444444444444,
                            "#bd3786"
                          ],
                          [
                            0.5555555555555556,
                            "#d8576b"
                          ],
                          [
                            0.6666666666666666,
                            "#ed7953"
                          ],
                          [
                            0.7777777777777778,
                            "#fb9f3a"
                          ],
                          [
                            0.8888888888888888,
                            "#fdca26"
                          ],
                          [
                            1,
                            "#f0f921"
                          ]
                        ],
                        "type": "contour"
                      }
                    ],
                    "contourcarpet": [
                      {
                        "colorbar": {
                          "outlinewidth": 0,
                          "ticks": ""
                        },
                        "type": "contourcarpet"
                      }
                    ],
                    "heatmap": [
                      {
                        "colorbar": {
                          "outlinewidth": 0,
                          "ticks": ""
                        },
                        "colorscale": [
                          [
                            0,
                            "#0d0887"
                          ],
                          [
                            0.1111111111111111,
                            "#46039f"
                          ],
                          [
                            0.2222222222222222,
                            "#7201a8"
                          ],
                          [
                            0.3333333333333333,
                            "#9c179e"
                          ],
                          [
                            0.4444444444444444,
                            "#bd3786"
                          ],
                          [
                            0.5555555555555556,
                            "#d8576b"
                          ],
                          [
                            0.6666666666666666,
                            "#ed7953"
                          ],
                          [
                            0.7777777777777778,
                            "#fb9f3a"
                          ],
                          [
                            0.8888888888888888,
                            "#fdca26"
                          ],
                          [
                            1,
                            "#f0f921"
                          ]
                        ],
                        "type": "heatmap"
                      }
                    ],
                    "heatmapgl": [
                      {
                        "colorbar": {
                          "outlinewidth": 0,
                          "ticks": ""
                        },
                        "colorscale": [
                          [
                            0,
                            "#0d0887"
                          ],
                          [
                            0.1111111111111111,
                            "#46039f"
                          ],
                          [
                            0.2222222222222222,
                            "#7201a8"
                          ],
                          [
                            0.3333333333333333,
                            "#9c179e"
                          ],
                          [
                            0.4444444444444444,
                            "#bd3786"
                          ],
                          [
                            0.5555555555555556,
                            "#d8576b"
                          ],
                          [
                            0.6666666666666666,
                            "#ed7953"
                          ],
                          [
                            0.7777777777777778,
                            "#fb9f3a"
                          ],
                          [
                            0.8888888888888888,
                            "#fdca26"
                          ],
                          [
                            1,
                            "#f0f921"
                          ]
                        ],
                        "type": "heatmapgl"
                      }
                    ],
                    "histogram": [
                      {
                        "marker": {
                          "pattern": {
                            "fillmode": "overlay",
                            "size": 10,
                            "solidity": 0.2
                          }
                        },
                        "type": "histogram"
                      }
                    ],
                    "histogram2d": [
                      {
                        "colorbar": {
                          "outlinewidth": 0,
                          "ticks": ""
                        },
                        "colorscale": [
                          [
                            0,
                            "#0d0887"
                          ],
                          [
                            0.1111111111111111,
                            "#46039f"
                          ],
                          [
                            0.2222222222222222,
                            "#7201a8"
                          ],
                          [
                            0.3333333333333333,
                            "#9c179e"
                          ],
                          [
                            0.4444444444444444,
                            "#bd3786"
                          ],
                          [
                            0.5555555555555556,
                            "#d8576b"
                          ],
                          [
                            0.6666666666666666,
                            "#ed7953"
                          ],
                          [
                            0.7777777777777778,
                            "#fb9f3a"
                          ],
                          [
                            0.8888888888888888,
                            "#fdca26"
                          ],
                          [
                            1,
                            "#f0f921"
                          ]
                        ],
                        "type": "histogram2d"
                      }
                    ],
                    "histogram2dcontour": [
                      {
                        "colorbar": {
                          "outlinewidth": 0,
                          "ticks": ""
                        },
                        "colorscale": [
                          [
                            0,
                            "#0d0887"
                          ],
                          [
                            0.1111111111111111,
                            "#46039f"
                          ],
                          [
                            0.2222222222222222,
                            "#7201a8"
                          ],
                          [
                            0.3333333333333333,
                            "#9c179e"
                          ],
                          [
                            0.4444444444444444,
                            "#bd3786"
                          ],
                          [
                            0.5555555555555556,
                            "#d8576b"
                          ],
                          [
                            0.6666666666666666,
                            "#ed7953"
                          ],
                          [
                            0.7777777777777778,
                            "#fb9f3a"
                          ],
                          [
                            0.8888888888888888,
                            "#fdca26"
                          ],
                          [
                            1,
                            "#f0f921"
                          ]
                        ],
                        "type": "histogram2dcontour"
                      }
                    ],
                    "mesh3d": [
                      {
                        "colorbar": {
                          "outlinewidth": 0,
                          "ticks": ""
                        },
                        "type": "mesh3d"
                      }
                    ],
                    "parcoords": [
                      {
                        "line": {
                          "colorbar": {
                            "outlinewidth": 0,
                            "ticks": ""
                          }
                        },
                        "type": "parcoords"
                      }
                    ],
                    "pie": [
                      {
                        "automargin": true,
                        "type": "pie"
                      }
                    ],
                    "scatter": [
                      {
                        "fillpattern": {
                          "fillmode": "overlay",
                          "size": 10,
                          "solidity": 0.2
                        },
                        "type": "scatter"
                      }
                    ],
                    "scatter3d": [
                      {
                        "line": {
                          "colorbar": {
                            "outlinewidth": 0,
                            "ticks": ""
                          }
                        },
                        "marker": {
                          "colorbar": {
                            "outlinewidth": 0,
                            "ticks": ""
                          }
                        },
                        "type": "scatter3d"
                      }
                    ],
                    "scattercarpet": [
                      {
                        "marker": {
                          "colorbar": {
                            "outlinewidth": 0,
                            "ticks": ""
                          }
                        },
                        "type": "scattercarpet"
                      }
                    ],
                    "scattergeo": [
                      {
                        "marker": {
                          "colorbar": {
                            "outlinewidth": 0,
                            "ticks": ""
                          }
                        },
                        "type": "scattergeo"
                      }
                    ],
                    "scattergl": [
                      {
                        "marker": {
                          "colorbar": {
                            "outlinewidth": 0,
                            "ticks": ""
                          }
                        },
                        "type": "scattergl"
                      }
                    ],
                    "scattermapbox": [
                      {
                        "marker": {
                          "colorbar": {
                            "outlinewidth": 0,
                            "ticks": ""
                          }
                        },
                        "type": "scattermapbox"
                      }
                    ],
                    "scatterpolar": [
                      {
                        "marker": {
                          "colorbar": {
                            "outlinewidth": 0,
                            "ticks": ""
                          }
                        },
                        "type": "scatterpolar"
                      }
                    ],
                    "scatterpolargl": [
                      {
                        "marker": {
                          "colorbar": {
                            "outlinewidth": 0,
                            "ticks": ""
                          }
                        },
                        "type": "scatterpolargl"
                      }
                    ],
                    "scatterternary": [
                      {
                        "marker": {
                          "colorbar": {
                            "outlinewidth": 0,
                            "ticks": ""
                          }
                        },
                        "type": "scatterternary"
                      }
                    ],
                    "surface": [
                      {
                        "colorbar": {
                          "outlinewidth": 0,
                          "ticks": ""
                        },
                        "colorscale": [
                          [
                            0,
                            "#0d0887"
                          ],
                          [
                            0.1111111111111111,
                            "#46039f"
                          ],
                          [
                            0.2222222222222222,
                            "#7201a8"
                          ],
                          [
                            0.3333333333333333,
                            "#9c179e"
                          ],
                          [
                            0.4444444444444444,
                            "#bd3786"
                          ],
                          [
                            0.5555555555555556,
                            "#d8576b"
                          ],
                          [
                            0.6666666666666666,
                            "#ed7953"
                          ],
                          [
                            0.7777777777777778,
                            "#fb9f3a"
                          ],
                          [
                            0.8888888888888888,
                            "#fdca26"
                          ],
                          [
                            1,
                            "#f0f921"
                          ]
                        ],
                        "type": "surface"
                      }
                    ],
                    "table": [
                      {
                        "cells": {
                          "fill": {
                            "color": "#EBF0F8"
                          },
                          "line": {
                            "color": "white"
                          }
                        },
                        "header": {
                          "fill": {
                            "color": "#C8D4E3"
                          },
                          "line": {
                            "color": "white"
                          }
                        },
                        "type": "table"
                      }
                    ]
                  },
                  "layout": {
                    "annotationdefaults": {
                      "arrowcolor": "#2a3f5f",
                      "arrowhead": 0,
                      "arrowwidth": 1
                    },
                    "autotypenumbers": "strict",
                    "coloraxis": {
                      "colorbar": {
                        "outlinewidth": 0,
                        "ticks": ""
                      }
                    },
                    "colorscale": {
                      "diverging": [
                        [
                          0,
                          "#8e0152"
                        ],
                        [
                          0.1,
                          "#c51b7d"
                        ],
                        [
                          0.2,
                          "#de77ae"
                        ],
                        [
                          0.3,
                          "#f1b6da"
                        ],
                        [
                          0.4,
                          "#fde0ef"
                        ],
                        [
                          0.5,
                          "#f7f7f7"
                        ],
                        [
                          0.6,
                          "#e6f5d0"
                        ],
                        [
                          0.7,
                          "#b8e186"
                        ],
                        [
                          0.8,
                          "#7fbc41"
                        ],
                        [
                          0.9,
                          "#4d9221"
                        ],
                        [
                          1,
                          "#276419"
                        ]
                      ],
                      "sequential": [
                        [
                          0,
                          "#0d0887"
                        ],
                        [
                          0.1111111111111111,
                          "#46039f"
                        ],
                        [
                          0.2222222222222222,
                          "#7201a8"
                        ],
                        [
                          0.3333333333333333,
                          "#9c179e"
                        ],
                        [
                          0.4444444444444444,
                          "#bd3786"
                        ],
                        [
                          0.5555555555555556,
                          "#d8576b"
                        ],
                        [
                          0.6666666666666666,
                          "#ed7953"
                        ],
                        [
                          0.7777777777777778,
                          "#fb9f3a"
                        ],
                        [
                          0.8888888888888888,
                          "#fdca26"
                        ],
                        [
                          1,
                          "#f0f921"
                        ]
                      ],
                      "sequentialminus": [
                        [
                          0,
                          "#0d0887"
                        ],
                        [
                          0.1111111111111111,
                          "#46039f"
                        ],
                        [
                          0.2222222222222222,
                          "#7201a8"
                        ],
                        [
                          0.3333333333333333,
                          "#9c179e"
                        ],
                        [
                          0.4444444444444444,
                          "#bd3786"
                        ],
                        [
                          0.5555555555555556,
                          "#d8576b"
                        ],
                        [
                          0.6666666666666666,
                          "#ed7953"
                        ],
                        [
                          0.7777777777777778,
                          "#fb9f3a"
                        ],
                        [
                          0.8888888888888888,
                          "#fdca26"
                        ],
                        [
                          1,
                          "#f0f921"
                        ]
                      ]
                    },
                    "colorway": [
                      "#636efa",
                      "#EF553B",
                      "#00cc96",
                      "#ab63fa",
                      "#FFA15A",
                      "#19d3f3",
                      "#FF6692",
                      "#B6E880",
                      "#FF97FF",
                      "#FECB52"
                    ],
                    "font": {
                      "color": "#2a3f5f"
                    },
                    "geo": {
                      "bgcolor": "white",
                      "lakecolor": "white",
                      "landcolor": "#E5ECF6",
                      "showlakes": true,
                      "showland": true,
                      "subunitcolor": "white"
                    },
                    "hoverlabel": {
                      "align": "left"
                    },
                    "hovermode": "closest",
                    "mapbox": {
                      "style": "light"
                    },
                    "paper_bgcolor": "white",
                    "plot_bgcolor": "#E5ECF6",
                    "polar": {
                      "angularaxis": {
                        "gridcolor": "white",
                        "linecolor": "white",
                        "ticks": ""
                      },
                      "bgcolor": "#E5ECF6",
                      "radialaxis": {
                        "gridcolor": "white",
                        "linecolor": "white",
                        "ticks": ""
                      }
                    },
                    "scene": {
                      "xaxis": {
                        "backgroundcolor": "#E5ECF6",
                        "gridcolor": "white",
                        "gridwidth": 2,
                        "linecolor": "white",
                        "showbackground": true,
                        "ticks": "",
                        "zerolinecolor": "white"
                      },
                      "yaxis": {
                        "backgroundcolor": "#E5ECF6",
                        "gridcolor": "white",
                        "gridwidth": 2,
                        "linecolor": "white",
                        "showbackground": true,
                        "ticks": "",
                        "zerolinecolor": "white"
                      },
                      "zaxis": {
                        "backgroundcolor": "#E5ECF6",
                        "gridcolor": "white",
                        "gridwidth": 2,
                        "linecolor": "white",
                        "showbackground": true,
                        "ticks": "",
                        "zerolinecolor": "white"
                      }
                    },
                    "shapedefaults": {
                      "line": {
                        "color": "#2a3f5f"
                      }
                    },
                    "ternary": {
                      "aaxis": {
                        "gridcolor": "white",
                        "linecolor": "white",
                        "ticks": ""
                      },
                      "baxis": {
                        "gridcolor": "white",
                        "linecolor": "white",
                        "ticks": ""
                      },
                      "bgcolor": "#E5ECF6",
                      "caxis": {
                        "gridcolor": "white",
                        "linecolor": "white",
                        "ticks": ""
                      }
                    },
                    "title": {
                      "x": 0.05
                    },
                    "xaxis": {
                      "automargin": true,
                      "gridcolor": "white",
                      "linecolor": "white",
                      "ticks": "",
                      "title": {
                        "standoff": 15
                      },
                      "zerolinecolor": "white",
                      "zerolinewidth": 2
                    },
                    "yaxis": {
                      "automargin": true,
                      "gridcolor": "white",
                      "linecolor": "white",
                      "ticks": "",
                      "title": {
                        "standoff": 15
                      },
                      "zerolinecolor": "white",
                      "zerolinewidth": 2
                    }
                  }
                },
                "title": {
                  "text": "Общий результат по месяцам"
                },
                "yaxis": {
                  "range": [
                    0,
                    100
                  ],
                  "side": "left",
                  "title": {
                    "text": "Конверсия, %"
                  }
                },
                "yaxis2": {
                  "overlaying": "y",
                  "range": [
                    0,
                    900
                  ],
                  "side": "right",
                  "title": {
                    "text": "Количество"
                  }
                }
              }
            }
          },
          "metadata": {},
          "output_type": "display_data"
        }
      ],
      "source": [
        "#а теперь все на одной картинке (не знаю зачем это нужно)\n",
        "\n",
        "\n",
        "fig = go.Figure()\n",
        "\n",
        "fig.add_trace(go.Bar(\n",
        "    x=df_months['year_month'],\n",
        "    y=df_months['conversion_reg'],\n",
        "    name=\"Доля тех кто зарегистрировался на сайте из посетивших, %\",\n",
        "    marker_color='tan',\n",
        "    text=df_months['conversion_reg'].round(2)\n",
        "))\n",
        "\n",
        "fig.add_trace(go.Bar(\n",
        "    x=df_months['year_month'],\n",
        "    y=df_months['conversion_app'],\n",
        "    name=\"Доля тех кто подал на игру из зарегистрированных, %\",\n",
        "    marker_color='navajowhite',\n",
        "    text=df_months['conversion_app'].round(2)\n",
        "))\n",
        "\n",
        "fig.add_trace(go.Bar(\n",
        "    x=df_months['year_month'],\n",
        "    y=df_months['conversion_game'],\n",
        "    name=\"Доля тех кто пришел на игру из подавших, %\",\n",
        "    marker_color='blanchedalmond',\n",
        "    text=df_months['conversion_game'].round(2)\n",
        "))\n",
        "\n",
        "fig.add_trace(go.Scatter(\n",
        "    x=df_months['year_month'],\n",
        "    y=df_months['visitors'],\n",
        "    mode='lines+markers+text',\n",
        "    marker_color='red', \n",
        "    name='Количество посещений сайта',\n",
        "    textposition=\"top center\",\n",
        "    yaxis='y2'\n",
        "))\n",
        "\n",
        "\n",
        "fig.add_trace(go.Scatter(\n",
        "    x=df_months['year_month'],\n",
        "    y=df_months['registered'],\n",
        "    yaxis=\"y2\",\n",
        "    name=\"Регистрации\",\n",
        "    marker_color='blue',\n",
        "    text=df_months['registered']\n",
        "))\n",
        "\n",
        "fig.add_trace(go.Scatter(\n",
        "    x=df_months['year_month'],\n",
        "    y=df_months['applied'],\n",
        "    yaxis=\"y2\",\n",
        "    name=\"Подали заявку на игру\",\n",
        "    marker_color='purple',\n",
        "    text=df_months['applied']\n",
        "))\n",
        "\n",
        "fig.add_trace(go.Scatter(\n",
        "    x=df_months['year_month'],\n",
        "    y=df_months['played'],\n",
        "    yaxis=\"y2\",\n",
        "    mode='lines+markers', \n",
        "    name='Пришли на игру',\n",
        "    marker_color='yellow',\n",
        "    text=df_months['played']\n",
        "))\n",
        "\n",
        "fig.update_layout(\n",
        "    legend=dict(orientation=\"h\"),\n",
        "    title='Общий результат по месяцам',\n",
        "    yaxis=dict(\n",
        "        title=dict(text=\"Конверсия, %\"),\n",
        "        side=\"left\",\n",
        "        range=[0, 100]\n",
        "    ),\n",
        "    yaxis2=dict(\n",
        "        title=dict(text=\"Количество\"),\n",
        "        side=\"right\",\n",
        "        range=[0, 900],\n",
        "        overlaying=\"y\"\n",
        "    )\n",
        ")\n",
        "\n",
        "fig.show()"
      ]
    },
    {
      "cell_type": "code",
      "execution_count": 11,
      "metadata": {},
      "outputs": [
        {
          "data": {
            "text/html": [
              "<div>\n",
              "<style scoped>\n",
              "    .dataframe tbody tr th:only-of-type {\n",
              "        vertical-align: middle;\n",
              "    }\n",
              "\n",
              "    .dataframe tbody tr th {\n",
              "        vertical-align: top;\n",
              "    }\n",
              "\n",
              "    .dataframe thead th {\n",
              "        text-align: right;\n",
              "    }\n",
              "</style>\n",
              "<table border=\"1\" class=\"dataframe\">\n",
              "  <thead>\n",
              "    <tr style=\"text-align: right;\">\n",
              "      <th></th>\n",
              "      <th>first_day_of_week</th>\n",
              "      <th>visitors</th>\n",
              "      <th>registered</th>\n",
              "      <th>applied</th>\n",
              "      <th>played</th>\n",
              "      <th>conversion_reg</th>\n",
              "      <th>conversion_app</th>\n",
              "      <th>conversion_game</th>\n",
              "    </tr>\n",
              "  </thead>\n",
              "  <tbody>\n",
              "    <tr>\n",
              "      <th>0</th>\n",
              "      <td>2022-08-29</td>\n",
              "      <td>111</td>\n",
              "      <td>32</td>\n",
              "      <td>7</td>\n",
              "      <td>5</td>\n",
              "      <td>28.828829</td>\n",
              "      <td>21.875000</td>\n",
              "      <td>71.428571</td>\n",
              "    </tr>\n",
              "    <tr>\n",
              "      <th>1</th>\n",
              "      <td>2022-09-05</td>\n",
              "      <td>184</td>\n",
              "      <td>31</td>\n",
              "      <td>6</td>\n",
              "      <td>5</td>\n",
              "      <td>16.847826</td>\n",
              "      <td>19.354839</td>\n",
              "      <td>83.333333</td>\n",
              "    </tr>\n",
              "    <tr>\n",
              "      <th>2</th>\n",
              "      <td>2022-09-12</td>\n",
              "      <td>167</td>\n",
              "      <td>43</td>\n",
              "      <td>16</td>\n",
              "      <td>8</td>\n",
              "      <td>25.748503</td>\n",
              "      <td>37.209302</td>\n",
              "      <td>50.000000</td>\n",
              "    </tr>\n",
              "    <tr>\n",
              "      <th>3</th>\n",
              "      <td>2022-09-19</td>\n",
              "      <td>181</td>\n",
              "      <td>45</td>\n",
              "      <td>12</td>\n",
              "      <td>11</td>\n",
              "      <td>24.861878</td>\n",
              "      <td>26.666667</td>\n",
              "      <td>91.666667</td>\n",
              "    </tr>\n",
              "    <tr>\n",
              "      <th>4</th>\n",
              "      <td>2022-09-26</td>\n",
              "      <td>195</td>\n",
              "      <td>59</td>\n",
              "      <td>17</td>\n",
              "      <td>17</td>\n",
              "      <td>30.256410</td>\n",
              "      <td>28.813559</td>\n",
              "      <td>100.000000</td>\n",
              "    </tr>\n",
              "    <tr>\n",
              "      <th>5</th>\n",
              "      <td>2022-10-03</td>\n",
              "      <td>204</td>\n",
              "      <td>58</td>\n",
              "      <td>18</td>\n",
              "      <td>15</td>\n",
              "      <td>28.431373</td>\n",
              "      <td>31.034483</td>\n",
              "      <td>83.333333</td>\n",
              "    </tr>\n",
              "    <tr>\n",
              "      <th>6</th>\n",
              "      <td>2022-10-10</td>\n",
              "      <td>190</td>\n",
              "      <td>44</td>\n",
              "      <td>13</td>\n",
              "      <td>13</td>\n",
              "      <td>23.157895</td>\n",
              "      <td>29.545455</td>\n",
              "      <td>100.000000</td>\n",
              "    </tr>\n",
              "    <tr>\n",
              "      <th>7</th>\n",
              "      <td>2022-10-17</td>\n",
              "      <td>171</td>\n",
              "      <td>41</td>\n",
              "      <td>12</td>\n",
              "      <td>10</td>\n",
              "      <td>23.976608</td>\n",
              "      <td>29.268293</td>\n",
              "      <td>83.333333</td>\n",
              "    </tr>\n",
              "    <tr>\n",
              "      <th>8</th>\n",
              "      <td>2022-10-24</td>\n",
              "      <td>189</td>\n",
              "      <td>48</td>\n",
              "      <td>15</td>\n",
              "      <td>11</td>\n",
              "      <td>25.396825</td>\n",
              "      <td>31.250000</td>\n",
              "      <td>73.333333</td>\n",
              "    </tr>\n",
              "    <tr>\n",
              "      <th>9</th>\n",
              "      <td>2022-10-31</td>\n",
              "      <td>197</td>\n",
              "      <td>47</td>\n",
              "      <td>16</td>\n",
              "      <td>14</td>\n",
              "      <td>23.857868</td>\n",
              "      <td>34.042553</td>\n",
              "      <td>87.500000</td>\n",
              "    </tr>\n",
              "  </tbody>\n",
              "</table>\n",
              "</div>"
            ],
            "text/plain": [
              "  first_day_of_week  visitors  registered  applied  played  conversion_reg  \\\n",
              "0        2022-08-29       111          32        7       5       28.828829   \n",
              "1        2022-09-05       184          31        6       5       16.847826   \n",
              "2        2022-09-12       167          43       16       8       25.748503   \n",
              "3        2022-09-19       181          45       12      11       24.861878   \n",
              "4        2022-09-26       195          59       17      17       30.256410   \n",
              "5        2022-10-03       204          58       18      15       28.431373   \n",
              "6        2022-10-10       190          44       13      13       23.157895   \n",
              "7        2022-10-17       171          41       12      10       23.976608   \n",
              "8        2022-10-24       189          48       15      11       25.396825   \n",
              "9        2022-10-31       197          47       16      14       23.857868   \n",
              "\n",
              "   conversion_app  conversion_game  \n",
              "0       21.875000        71.428571  \n",
              "1       19.354839        83.333333  \n",
              "2       37.209302        50.000000  \n",
              "3       26.666667        91.666667  \n",
              "4       28.813559       100.000000  \n",
              "5       31.034483        83.333333  \n",
              "6       29.545455       100.000000  \n",
              "7       29.268293        83.333333  \n",
              "8       31.250000        73.333333  \n",
              "9       34.042553        87.500000  "
            ]
          },
          "execution_count": 11,
          "metadata": {},
          "output_type": "execute_result"
        }
      ],
      "source": [
        "#считаю конверсию регистрации\n",
        "df_weeks['conversion_reg']=df_weeks['registered']/df_weeks['visitors']*100\n",
        "\n",
        "#считаю конверсию подавших на игру (долю подавших от зареганых)\n",
        "df_weeks['conversion_app']=df_weeks['applied']/df_weeks['registered']*100\n",
        "\n",
        "#считаю конверсию подавших на игру (долю подавших от зареганых)\n",
        "df_weeks['conversion_game']=df_weeks['played']/df_weeks['applied']*100\n",
        "\n",
        "df_weeks.head(10)"
      ]
    },
    {
      "cell_type": "code",
      "execution_count": 12,
      "metadata": {},
      "outputs": [
        {
          "data": {
            "application/vnd.plotly.v1+json": {
              "config": {
                "plotlyServerURL": "https://plot.ly"
              },
              "data": [
                {
                  "marker": {
                    "color": "red"
                  },
                  "mode": "lines+markers+text",
                  "name": "Посещения сайта",
                  "text": [
                    111,
                    184,
                    167,
                    181,
                    195,
                    204,
                    190,
                    171,
                    189,
                    197,
                    173,
                    179,
                    180,
                    177,
                    168,
                    196,
                    192,
                    192,
                    201,
                    205,
                    181,
                    182,
                    81
                  ],
                  "textposition": "top center",
                  "type": "scatter",
                  "x": [
                    "2022-08-29",
                    "2022-09-05",
                    "2022-09-12",
                    "2022-09-19",
                    "2022-09-26",
                    "2022-10-03",
                    "2022-10-10",
                    "2022-10-17",
                    "2022-10-24",
                    "2022-10-31",
                    "2022-11-07",
                    "2022-11-14",
                    "2022-11-21",
                    "2022-11-28",
                    "2022-12-05",
                    "2022-12-12",
                    "2022-12-19",
                    "2022-12-26",
                    "2023-01-02",
                    "2023-01-09",
                    "2023-01-16",
                    "2023-01-23",
                    "2023-01-30"
                  ],
                  "y": [
                    111,
                    184,
                    167,
                    181,
                    195,
                    204,
                    190,
                    171,
                    189,
                    197,
                    173,
                    179,
                    180,
                    177,
                    168,
                    196,
                    192,
                    192,
                    201,
                    205,
                    181,
                    182,
                    81
                  ]
                },
                {
                  "marker": {
                    "color": "blue"
                  },
                  "name": "Регистрации",
                  "text": [
                    32,
                    31,
                    43,
                    45,
                    59,
                    58,
                    44,
                    41,
                    48,
                    47,
                    41,
                    39,
                    49,
                    45,
                    47,
                    52,
                    46,
                    46,
                    58,
                    47,
                    43,
                    41,
                    22
                  ],
                  "textposition": "top center",
                  "type": "scatter",
                  "x": [
                    "2022-08-29",
                    "2022-09-05",
                    "2022-09-12",
                    "2022-09-19",
                    "2022-09-26",
                    "2022-10-03",
                    "2022-10-10",
                    "2022-10-17",
                    "2022-10-24",
                    "2022-10-31",
                    "2022-11-07",
                    "2022-11-14",
                    "2022-11-21",
                    "2022-11-28",
                    "2022-12-05",
                    "2022-12-12",
                    "2022-12-19",
                    "2022-12-26",
                    "2023-01-02",
                    "2023-01-09",
                    "2023-01-16",
                    "2023-01-23",
                    "2023-01-30"
                  ],
                  "y": [
                    32,
                    31,
                    43,
                    45,
                    59,
                    58,
                    44,
                    41,
                    48,
                    47,
                    41,
                    39,
                    49,
                    45,
                    47,
                    52,
                    46,
                    46,
                    58,
                    47,
                    43,
                    41,
                    22
                  ]
                },
                {
                  "marker": {
                    "color": "purple"
                  },
                  "name": "Подали заявку на игру",
                  "text": [
                    7,
                    6,
                    16,
                    12,
                    17,
                    18,
                    13,
                    12,
                    15,
                    16,
                    12,
                    7,
                    14,
                    12,
                    15,
                    14,
                    16,
                    10,
                    16,
                    14,
                    13,
                    13,
                    5
                  ],
                  "type": "scatter",
                  "x": [
                    "2022-08-29",
                    "2022-09-05",
                    "2022-09-12",
                    "2022-09-19",
                    "2022-09-26",
                    "2022-10-03",
                    "2022-10-10",
                    "2022-10-17",
                    "2022-10-24",
                    "2022-10-31",
                    "2022-11-07",
                    "2022-11-14",
                    "2022-11-21",
                    "2022-11-28",
                    "2022-12-05",
                    "2022-12-12",
                    "2022-12-19",
                    "2022-12-26",
                    "2023-01-02",
                    "2023-01-09",
                    "2023-01-16",
                    "2023-01-23",
                    "2023-01-30"
                  ],
                  "y": [
                    7,
                    6,
                    16,
                    12,
                    17,
                    18,
                    13,
                    12,
                    15,
                    16,
                    12,
                    7,
                    14,
                    12,
                    15,
                    14,
                    16,
                    10,
                    16,
                    14,
                    13,
                    13,
                    5
                  ]
                },
                {
                  "mode": "lines+markers",
                  "name": "Пришли на игру",
                  "text": [
                    7,
                    6,
                    16,
                    12,
                    17,
                    18,
                    13,
                    12,
                    15,
                    16,
                    12,
                    7,
                    14,
                    12,
                    15,
                    14,
                    16,
                    10,
                    16,
                    14,
                    13,
                    13,
                    5
                  ],
                  "type": "scatter",
                  "x": [
                    "2022-08-29",
                    "2022-09-05",
                    "2022-09-12",
                    "2022-09-19",
                    "2022-09-26",
                    "2022-10-03",
                    "2022-10-10",
                    "2022-10-17",
                    "2022-10-24",
                    "2022-10-31",
                    "2022-11-07",
                    "2022-11-14",
                    "2022-11-21",
                    "2022-11-28",
                    "2022-12-05",
                    "2022-12-12",
                    "2022-12-19",
                    "2022-12-26",
                    "2023-01-02",
                    "2023-01-09",
                    "2023-01-16",
                    "2023-01-23",
                    "2023-01-30"
                  ],
                  "y": [
                    5,
                    5,
                    8,
                    11,
                    17,
                    15,
                    13,
                    10,
                    11,
                    14,
                    11,
                    5,
                    14,
                    10,
                    12,
                    6,
                    8,
                    4,
                    4,
                    6,
                    4,
                    5,
                    0
                  ]
                }
              ],
              "layout": {
                "legend": {
                  "orientation": "h"
                },
                "template": {
                  "data": {
                    "bar": [
                      {
                        "error_x": {
                          "color": "#2a3f5f"
                        },
                        "error_y": {
                          "color": "#2a3f5f"
                        },
                        "marker": {
                          "line": {
                            "color": "#E5ECF6",
                            "width": 0.5
                          },
                          "pattern": {
                            "fillmode": "overlay",
                            "size": 10,
                            "solidity": 0.2
                          }
                        },
                        "type": "bar"
                      }
                    ],
                    "barpolar": [
                      {
                        "marker": {
                          "line": {
                            "color": "#E5ECF6",
                            "width": 0.5
                          },
                          "pattern": {
                            "fillmode": "overlay",
                            "size": 10,
                            "solidity": 0.2
                          }
                        },
                        "type": "barpolar"
                      }
                    ],
                    "carpet": [
                      {
                        "aaxis": {
                          "endlinecolor": "#2a3f5f",
                          "gridcolor": "white",
                          "linecolor": "white",
                          "minorgridcolor": "white",
                          "startlinecolor": "#2a3f5f"
                        },
                        "baxis": {
                          "endlinecolor": "#2a3f5f",
                          "gridcolor": "white",
                          "linecolor": "white",
                          "minorgridcolor": "white",
                          "startlinecolor": "#2a3f5f"
                        },
                        "type": "carpet"
                      }
                    ],
                    "choropleth": [
                      {
                        "colorbar": {
                          "outlinewidth": 0,
                          "ticks": ""
                        },
                        "type": "choropleth"
                      }
                    ],
                    "contour": [
                      {
                        "colorbar": {
                          "outlinewidth": 0,
                          "ticks": ""
                        },
                        "colorscale": [
                          [
                            0,
                            "#0d0887"
                          ],
                          [
                            0.1111111111111111,
                            "#46039f"
                          ],
                          [
                            0.2222222222222222,
                            "#7201a8"
                          ],
                          [
                            0.3333333333333333,
                            "#9c179e"
                          ],
                          [
                            0.4444444444444444,
                            "#bd3786"
                          ],
                          [
                            0.5555555555555556,
                            "#d8576b"
                          ],
                          [
                            0.6666666666666666,
                            "#ed7953"
                          ],
                          [
                            0.7777777777777778,
                            "#fb9f3a"
                          ],
                          [
                            0.8888888888888888,
                            "#fdca26"
                          ],
                          [
                            1,
                            "#f0f921"
                          ]
                        ],
                        "type": "contour"
                      }
                    ],
                    "contourcarpet": [
                      {
                        "colorbar": {
                          "outlinewidth": 0,
                          "ticks": ""
                        },
                        "type": "contourcarpet"
                      }
                    ],
                    "heatmap": [
                      {
                        "colorbar": {
                          "outlinewidth": 0,
                          "ticks": ""
                        },
                        "colorscale": [
                          [
                            0,
                            "#0d0887"
                          ],
                          [
                            0.1111111111111111,
                            "#46039f"
                          ],
                          [
                            0.2222222222222222,
                            "#7201a8"
                          ],
                          [
                            0.3333333333333333,
                            "#9c179e"
                          ],
                          [
                            0.4444444444444444,
                            "#bd3786"
                          ],
                          [
                            0.5555555555555556,
                            "#d8576b"
                          ],
                          [
                            0.6666666666666666,
                            "#ed7953"
                          ],
                          [
                            0.7777777777777778,
                            "#fb9f3a"
                          ],
                          [
                            0.8888888888888888,
                            "#fdca26"
                          ],
                          [
                            1,
                            "#f0f921"
                          ]
                        ],
                        "type": "heatmap"
                      }
                    ],
                    "heatmapgl": [
                      {
                        "colorbar": {
                          "outlinewidth": 0,
                          "ticks": ""
                        },
                        "colorscale": [
                          [
                            0,
                            "#0d0887"
                          ],
                          [
                            0.1111111111111111,
                            "#46039f"
                          ],
                          [
                            0.2222222222222222,
                            "#7201a8"
                          ],
                          [
                            0.3333333333333333,
                            "#9c179e"
                          ],
                          [
                            0.4444444444444444,
                            "#bd3786"
                          ],
                          [
                            0.5555555555555556,
                            "#d8576b"
                          ],
                          [
                            0.6666666666666666,
                            "#ed7953"
                          ],
                          [
                            0.7777777777777778,
                            "#fb9f3a"
                          ],
                          [
                            0.8888888888888888,
                            "#fdca26"
                          ],
                          [
                            1,
                            "#f0f921"
                          ]
                        ],
                        "type": "heatmapgl"
                      }
                    ],
                    "histogram": [
                      {
                        "marker": {
                          "pattern": {
                            "fillmode": "overlay",
                            "size": 10,
                            "solidity": 0.2
                          }
                        },
                        "type": "histogram"
                      }
                    ],
                    "histogram2d": [
                      {
                        "colorbar": {
                          "outlinewidth": 0,
                          "ticks": ""
                        },
                        "colorscale": [
                          [
                            0,
                            "#0d0887"
                          ],
                          [
                            0.1111111111111111,
                            "#46039f"
                          ],
                          [
                            0.2222222222222222,
                            "#7201a8"
                          ],
                          [
                            0.3333333333333333,
                            "#9c179e"
                          ],
                          [
                            0.4444444444444444,
                            "#bd3786"
                          ],
                          [
                            0.5555555555555556,
                            "#d8576b"
                          ],
                          [
                            0.6666666666666666,
                            "#ed7953"
                          ],
                          [
                            0.7777777777777778,
                            "#fb9f3a"
                          ],
                          [
                            0.8888888888888888,
                            "#fdca26"
                          ],
                          [
                            1,
                            "#f0f921"
                          ]
                        ],
                        "type": "histogram2d"
                      }
                    ],
                    "histogram2dcontour": [
                      {
                        "colorbar": {
                          "outlinewidth": 0,
                          "ticks": ""
                        },
                        "colorscale": [
                          [
                            0,
                            "#0d0887"
                          ],
                          [
                            0.1111111111111111,
                            "#46039f"
                          ],
                          [
                            0.2222222222222222,
                            "#7201a8"
                          ],
                          [
                            0.3333333333333333,
                            "#9c179e"
                          ],
                          [
                            0.4444444444444444,
                            "#bd3786"
                          ],
                          [
                            0.5555555555555556,
                            "#d8576b"
                          ],
                          [
                            0.6666666666666666,
                            "#ed7953"
                          ],
                          [
                            0.7777777777777778,
                            "#fb9f3a"
                          ],
                          [
                            0.8888888888888888,
                            "#fdca26"
                          ],
                          [
                            1,
                            "#f0f921"
                          ]
                        ],
                        "type": "histogram2dcontour"
                      }
                    ],
                    "mesh3d": [
                      {
                        "colorbar": {
                          "outlinewidth": 0,
                          "ticks": ""
                        },
                        "type": "mesh3d"
                      }
                    ],
                    "parcoords": [
                      {
                        "line": {
                          "colorbar": {
                            "outlinewidth": 0,
                            "ticks": ""
                          }
                        },
                        "type": "parcoords"
                      }
                    ],
                    "pie": [
                      {
                        "automargin": true,
                        "type": "pie"
                      }
                    ],
                    "scatter": [
                      {
                        "fillpattern": {
                          "fillmode": "overlay",
                          "size": 10,
                          "solidity": 0.2
                        },
                        "type": "scatter"
                      }
                    ],
                    "scatter3d": [
                      {
                        "line": {
                          "colorbar": {
                            "outlinewidth": 0,
                            "ticks": ""
                          }
                        },
                        "marker": {
                          "colorbar": {
                            "outlinewidth": 0,
                            "ticks": ""
                          }
                        },
                        "type": "scatter3d"
                      }
                    ],
                    "scattercarpet": [
                      {
                        "marker": {
                          "colorbar": {
                            "outlinewidth": 0,
                            "ticks": ""
                          }
                        },
                        "type": "scattercarpet"
                      }
                    ],
                    "scattergeo": [
                      {
                        "marker": {
                          "colorbar": {
                            "outlinewidth": 0,
                            "ticks": ""
                          }
                        },
                        "type": "scattergeo"
                      }
                    ],
                    "scattergl": [
                      {
                        "marker": {
                          "colorbar": {
                            "outlinewidth": 0,
                            "ticks": ""
                          }
                        },
                        "type": "scattergl"
                      }
                    ],
                    "scattermapbox": [
                      {
                        "marker": {
                          "colorbar": {
                            "outlinewidth": 0,
                            "ticks": ""
                          }
                        },
                        "type": "scattermapbox"
                      }
                    ],
                    "scatterpolar": [
                      {
                        "marker": {
                          "colorbar": {
                            "outlinewidth": 0,
                            "ticks": ""
                          }
                        },
                        "type": "scatterpolar"
                      }
                    ],
                    "scatterpolargl": [
                      {
                        "marker": {
                          "colorbar": {
                            "outlinewidth": 0,
                            "ticks": ""
                          }
                        },
                        "type": "scatterpolargl"
                      }
                    ],
                    "scatterternary": [
                      {
                        "marker": {
                          "colorbar": {
                            "outlinewidth": 0,
                            "ticks": ""
                          }
                        },
                        "type": "scatterternary"
                      }
                    ],
                    "surface": [
                      {
                        "colorbar": {
                          "outlinewidth": 0,
                          "ticks": ""
                        },
                        "colorscale": [
                          [
                            0,
                            "#0d0887"
                          ],
                          [
                            0.1111111111111111,
                            "#46039f"
                          ],
                          [
                            0.2222222222222222,
                            "#7201a8"
                          ],
                          [
                            0.3333333333333333,
                            "#9c179e"
                          ],
                          [
                            0.4444444444444444,
                            "#bd3786"
                          ],
                          [
                            0.5555555555555556,
                            "#d8576b"
                          ],
                          [
                            0.6666666666666666,
                            "#ed7953"
                          ],
                          [
                            0.7777777777777778,
                            "#fb9f3a"
                          ],
                          [
                            0.8888888888888888,
                            "#fdca26"
                          ],
                          [
                            1,
                            "#f0f921"
                          ]
                        ],
                        "type": "surface"
                      }
                    ],
                    "table": [
                      {
                        "cells": {
                          "fill": {
                            "color": "#EBF0F8"
                          },
                          "line": {
                            "color": "white"
                          }
                        },
                        "header": {
                          "fill": {
                            "color": "#C8D4E3"
                          },
                          "line": {
                            "color": "white"
                          }
                        },
                        "type": "table"
                      }
                    ]
                  },
                  "layout": {
                    "annotationdefaults": {
                      "arrowcolor": "#2a3f5f",
                      "arrowhead": 0,
                      "arrowwidth": 1
                    },
                    "autotypenumbers": "strict",
                    "coloraxis": {
                      "colorbar": {
                        "outlinewidth": 0,
                        "ticks": ""
                      }
                    },
                    "colorscale": {
                      "diverging": [
                        [
                          0,
                          "#8e0152"
                        ],
                        [
                          0.1,
                          "#c51b7d"
                        ],
                        [
                          0.2,
                          "#de77ae"
                        ],
                        [
                          0.3,
                          "#f1b6da"
                        ],
                        [
                          0.4,
                          "#fde0ef"
                        ],
                        [
                          0.5,
                          "#f7f7f7"
                        ],
                        [
                          0.6,
                          "#e6f5d0"
                        ],
                        [
                          0.7,
                          "#b8e186"
                        ],
                        [
                          0.8,
                          "#7fbc41"
                        ],
                        [
                          0.9,
                          "#4d9221"
                        ],
                        [
                          1,
                          "#276419"
                        ]
                      ],
                      "sequential": [
                        [
                          0,
                          "#0d0887"
                        ],
                        [
                          0.1111111111111111,
                          "#46039f"
                        ],
                        [
                          0.2222222222222222,
                          "#7201a8"
                        ],
                        [
                          0.3333333333333333,
                          "#9c179e"
                        ],
                        [
                          0.4444444444444444,
                          "#bd3786"
                        ],
                        [
                          0.5555555555555556,
                          "#d8576b"
                        ],
                        [
                          0.6666666666666666,
                          "#ed7953"
                        ],
                        [
                          0.7777777777777778,
                          "#fb9f3a"
                        ],
                        [
                          0.8888888888888888,
                          "#fdca26"
                        ],
                        [
                          1,
                          "#f0f921"
                        ]
                      ],
                      "sequentialminus": [
                        [
                          0,
                          "#0d0887"
                        ],
                        [
                          0.1111111111111111,
                          "#46039f"
                        ],
                        [
                          0.2222222222222222,
                          "#7201a8"
                        ],
                        [
                          0.3333333333333333,
                          "#9c179e"
                        ],
                        [
                          0.4444444444444444,
                          "#bd3786"
                        ],
                        [
                          0.5555555555555556,
                          "#d8576b"
                        ],
                        [
                          0.6666666666666666,
                          "#ed7953"
                        ],
                        [
                          0.7777777777777778,
                          "#fb9f3a"
                        ],
                        [
                          0.8888888888888888,
                          "#fdca26"
                        ],
                        [
                          1,
                          "#f0f921"
                        ]
                      ]
                    },
                    "colorway": [
                      "#636efa",
                      "#EF553B",
                      "#00cc96",
                      "#ab63fa",
                      "#FFA15A",
                      "#19d3f3",
                      "#FF6692",
                      "#B6E880",
                      "#FF97FF",
                      "#FECB52"
                    ],
                    "font": {
                      "color": "#2a3f5f"
                    },
                    "geo": {
                      "bgcolor": "white",
                      "lakecolor": "white",
                      "landcolor": "#E5ECF6",
                      "showlakes": true,
                      "showland": true,
                      "subunitcolor": "white"
                    },
                    "hoverlabel": {
                      "align": "left"
                    },
                    "hovermode": "closest",
                    "mapbox": {
                      "style": "light"
                    },
                    "paper_bgcolor": "white",
                    "plot_bgcolor": "#E5ECF6",
                    "polar": {
                      "angularaxis": {
                        "gridcolor": "white",
                        "linecolor": "white",
                        "ticks": ""
                      },
                      "bgcolor": "#E5ECF6",
                      "radialaxis": {
                        "gridcolor": "white",
                        "linecolor": "white",
                        "ticks": ""
                      }
                    },
                    "scene": {
                      "xaxis": {
                        "backgroundcolor": "#E5ECF6",
                        "gridcolor": "white",
                        "gridwidth": 2,
                        "linecolor": "white",
                        "showbackground": true,
                        "ticks": "",
                        "zerolinecolor": "white"
                      },
                      "yaxis": {
                        "backgroundcolor": "#E5ECF6",
                        "gridcolor": "white",
                        "gridwidth": 2,
                        "linecolor": "white",
                        "showbackground": true,
                        "ticks": "",
                        "zerolinecolor": "white"
                      },
                      "zaxis": {
                        "backgroundcolor": "#E5ECF6",
                        "gridcolor": "white",
                        "gridwidth": 2,
                        "linecolor": "white",
                        "showbackground": true,
                        "ticks": "",
                        "zerolinecolor": "white"
                      }
                    },
                    "shapedefaults": {
                      "line": {
                        "color": "#2a3f5f"
                      }
                    },
                    "ternary": {
                      "aaxis": {
                        "gridcolor": "white",
                        "linecolor": "white",
                        "ticks": ""
                      },
                      "baxis": {
                        "gridcolor": "white",
                        "linecolor": "white",
                        "ticks": ""
                      },
                      "bgcolor": "#E5ECF6",
                      "caxis": {
                        "gridcolor": "white",
                        "linecolor": "white",
                        "ticks": ""
                      }
                    },
                    "title": {
                      "x": 0.05
                    },
                    "xaxis": {
                      "automargin": true,
                      "gridcolor": "white",
                      "linecolor": "white",
                      "ticks": "",
                      "title": {
                        "standoff": 15
                      },
                      "zerolinecolor": "white",
                      "zerolinewidth": 2
                    },
                    "yaxis": {
                      "automargin": true,
                      "gridcolor": "white",
                      "linecolor": "white",
                      "ticks": "",
                      "title": {
                        "standoff": 15
                      },
                      "zerolinecolor": "white",
                      "zerolinewidth": 2
                    }
                  }
                },
                "title": {
                  "text": "Общее количество по неделям"
                },
                "yaxis": {
                  "range": [
                    0,
                    250
                  ],
                  "side": "left",
                  "title": {
                    "text": "Количество"
                  }
                }
              }
            }
          },
          "metadata": {},
          "output_type": "display_data"
        }
      ],
      "source": [
        "#строю график по общему количеству\n",
        "\n",
        "fig = go.Figure()\n",
        "\n",
        "fig.add_trace(go.Scatter(\n",
        "    x=df_weeks['first_day_of_week'],\n",
        "    y=df_weeks['visitors'],\n",
        "    name=\"Посещения сайта\",\n",
        "    marker_color='red',\n",
        "    mode='lines+markers+text',\n",
        "    text=df_weeks['visitors'],\n",
        "    textposition=\"top center\"\n",
        "))\n",
        "\n",
        "fig.add_trace(go.Scatter(\n",
        "    x=df_weeks['first_day_of_week'],\n",
        "    y=df_weeks['registered'],\n",
        "    name=\"Регистрации\",\n",
        "    marker_color='blue',\n",
        "    text=df_weeks['registered'],\n",
        "    textposition=\"top center\"\n",
        "))\n",
        "\n",
        "fig.add_trace(go.Scatter(\n",
        "    x=df_weeks['first_day_of_week'],\n",
        "    y=df_weeks['applied'],\n",
        "    name=\"Подали заявку на игру\",\n",
        "    marker_color='purple',\n",
        "    text=df_weeks['applied']\n",
        "))\n",
        "\n",
        "fig.add_trace(go.Scatter(\n",
        "    x=df_weeks['first_day_of_week'],\n",
        "    y=df_weeks['played'],\n",
        "    mode='lines+markers', \n",
        "    name='Пришли на игру',\n",
        "    text=df_weeks['applied']\n",
        "))\n",
        "\n",
        "fig.update_layout(\n",
        "    legend=dict(orientation=\"h\"),\n",
        "    title='Общее количество по неделям',\n",
        "    yaxis=dict(\n",
        "        title=dict(text=\"Количество\"),\n",
        "        side=\"left\",\n",
        "        range=[0, 250]\n",
        "    )\n",
        ")\n",
        "\n",
        "fig.show()"
      ]
    },
    {
      "cell_type": "code",
      "execution_count": 13,
      "metadata": {},
      "outputs": [
        {
          "data": {
            "application/vnd.plotly.v1+json": {
              "config": {
                "plotlyServerURL": "https://plot.ly"
              },
              "data": [
                {
                  "marker": {
                    "color": "tan"
                  },
                  "name": "Доля тех кто зарегистрировался на сайте из посетивших, %",
                  "text": [
                    28.83,
                    16.85,
                    25.75,
                    24.86,
                    30.26,
                    28.43,
                    23.16,
                    23.98,
                    25.4,
                    23.86,
                    23.7,
                    21.79,
                    27.22,
                    25.42,
                    27.98,
                    26.53,
                    23.96,
                    23.96,
                    28.86,
                    22.93,
                    23.76,
                    22.53,
                    27.16
                  ],
                  "type": "bar",
                  "x": [
                    "2022-08-29",
                    "2022-09-05",
                    "2022-09-12",
                    "2022-09-19",
                    "2022-09-26",
                    "2022-10-03",
                    "2022-10-10",
                    "2022-10-17",
                    "2022-10-24",
                    "2022-10-31",
                    "2022-11-07",
                    "2022-11-14",
                    "2022-11-21",
                    "2022-11-28",
                    "2022-12-05",
                    "2022-12-12",
                    "2022-12-19",
                    "2022-12-26",
                    "2023-01-02",
                    "2023-01-09",
                    "2023-01-16",
                    "2023-01-23",
                    "2023-01-30"
                  ],
                  "y": [
                    28.82882882882883,
                    16.847826086956523,
                    25.748502994011975,
                    24.861878453038674,
                    30.256410256410255,
                    28.431372549019606,
                    23.157894736842106,
                    23.976608187134502,
                    25.396825396825395,
                    23.85786802030457,
                    23.699421965317917,
                    21.787709497206702,
                    27.22222222222222,
                    25.423728813559322,
                    27.976190476190478,
                    26.53061224489796,
                    23.958333333333336,
                    23.958333333333336,
                    28.855721393034827,
                    22.926829268292686,
                    23.756906077348066,
                    22.52747252747253,
                    27.160493827160494
                  ]
                },
                {
                  "marker": {
                    "color": "navajowhite"
                  },
                  "name": "Доля тех кто подал на игру из зарегистрированных, %",
                  "text": [
                    21.88,
                    19.35,
                    37.21,
                    26.67,
                    28.81,
                    31.03,
                    29.55,
                    29.27,
                    31.25,
                    34.04,
                    29.27,
                    17.95,
                    28.57,
                    26.67,
                    31.91,
                    26.92,
                    34.78,
                    21.74,
                    27.59,
                    29.79,
                    30.23,
                    31.71,
                    22.73
                  ],
                  "type": "bar",
                  "x": [
                    "2022-08-29",
                    "2022-09-05",
                    "2022-09-12",
                    "2022-09-19",
                    "2022-09-26",
                    "2022-10-03",
                    "2022-10-10",
                    "2022-10-17",
                    "2022-10-24",
                    "2022-10-31",
                    "2022-11-07",
                    "2022-11-14",
                    "2022-11-21",
                    "2022-11-28",
                    "2022-12-05",
                    "2022-12-12",
                    "2022-12-19",
                    "2022-12-26",
                    "2023-01-02",
                    "2023-01-09",
                    "2023-01-16",
                    "2023-01-23",
                    "2023-01-30"
                  ],
                  "y": [
                    21.875,
                    19.35483870967742,
                    37.2093023255814,
                    26.666666666666668,
                    28.8135593220339,
                    31.03448275862069,
                    29.545454545454547,
                    29.268292682926827,
                    31.25,
                    34.04255319148936,
                    29.268292682926827,
                    17.94871794871795,
                    28.57142857142857,
                    26.666666666666668,
                    31.914893617021278,
                    26.923076923076923,
                    34.78260869565217,
                    21.73913043478261,
                    27.586206896551722,
                    29.78723404255319,
                    30.23255813953488,
                    31.70731707317073,
                    22.727272727272727
                  ]
                },
                {
                  "marker": {
                    "color": "blanchedalmond"
                  },
                  "name": "Доля тех кто пришел на игру из подавших, %",
                  "text": [
                    71.43,
                    83.33,
                    50,
                    91.67,
                    100,
                    83.33,
                    100,
                    83.33,
                    73.33,
                    87.5,
                    91.67,
                    71.43,
                    100,
                    83.33,
                    80,
                    42.86,
                    50,
                    40,
                    25,
                    42.86,
                    30.77,
                    38.46,
                    0
                  ],
                  "type": "bar",
                  "x": [
                    "2022-08-29",
                    "2022-09-05",
                    "2022-09-12",
                    "2022-09-19",
                    "2022-09-26",
                    "2022-10-03",
                    "2022-10-10",
                    "2022-10-17",
                    "2022-10-24",
                    "2022-10-31",
                    "2022-11-07",
                    "2022-11-14",
                    "2022-11-21",
                    "2022-11-28",
                    "2022-12-05",
                    "2022-12-12",
                    "2022-12-19",
                    "2022-12-26",
                    "2023-01-02",
                    "2023-01-09",
                    "2023-01-16",
                    "2023-01-23",
                    "2023-01-30"
                  ],
                  "y": [
                    71.42857142857143,
                    83.33333333333334,
                    50,
                    91.66666666666666,
                    100,
                    83.33333333333334,
                    100,
                    83.33333333333334,
                    73.33333333333333,
                    87.5,
                    91.66666666666666,
                    71.42857142857143,
                    100,
                    83.33333333333334,
                    80,
                    42.857142857142854,
                    50,
                    40,
                    25,
                    42.857142857142854,
                    30.76923076923077,
                    38.46153846153847,
                    0
                  ]
                },
                {
                  "mode": "lines+markers",
                  "name": "Количество посещений сайта",
                  "type": "scatter",
                  "x": [
                    "2022-08-29",
                    "2022-09-05",
                    "2022-09-12",
                    "2022-09-19",
                    "2022-09-26",
                    "2022-10-03",
                    "2022-10-10",
                    "2022-10-17",
                    "2022-10-24",
                    "2022-10-31",
                    "2022-11-07",
                    "2022-11-14",
                    "2022-11-21",
                    "2022-11-28",
                    "2022-12-05",
                    "2022-12-12",
                    "2022-12-19",
                    "2022-12-26",
                    "2023-01-02",
                    "2023-01-09",
                    "2023-01-16",
                    "2023-01-23",
                    "2023-01-30"
                  ],
                  "y": [
                    111,
                    184,
                    167,
                    181,
                    195,
                    204,
                    190,
                    171,
                    189,
                    197,
                    173,
                    179,
                    180,
                    177,
                    168,
                    196,
                    192,
                    192,
                    201,
                    205,
                    181,
                    182,
                    81
                  ],
                  "yaxis": "y2"
                },
                {
                  "marker": {
                    "color": "blue"
                  },
                  "name": "Регистрации",
                  "text": [
                    32,
                    31,
                    43,
                    45,
                    59,
                    58,
                    44,
                    41,
                    48,
                    47,
                    41,
                    39,
                    49,
                    45,
                    47,
                    52,
                    46,
                    46,
                    58,
                    47,
                    43,
                    41,
                    22
                  ],
                  "type": "scatter",
                  "x": [
                    "2022-08-29",
                    "2022-09-05",
                    "2022-09-12",
                    "2022-09-19",
                    "2022-09-26",
                    "2022-10-03",
                    "2022-10-10",
                    "2022-10-17",
                    "2022-10-24",
                    "2022-10-31",
                    "2022-11-07",
                    "2022-11-14",
                    "2022-11-21",
                    "2022-11-28",
                    "2022-12-05",
                    "2022-12-12",
                    "2022-12-19",
                    "2022-12-26",
                    "2023-01-02",
                    "2023-01-09",
                    "2023-01-16",
                    "2023-01-23",
                    "2023-01-30"
                  ],
                  "y": [
                    32,
                    31,
                    43,
                    45,
                    59,
                    58,
                    44,
                    41,
                    48,
                    47,
                    41,
                    39,
                    49,
                    45,
                    47,
                    52,
                    46,
                    46,
                    58,
                    47,
                    43,
                    41,
                    22
                  ],
                  "yaxis": "y2"
                },
                {
                  "marker": {
                    "color": "purple"
                  },
                  "name": "Подали заявку на игру",
                  "text": [
                    7,
                    6,
                    16,
                    12,
                    17,
                    18,
                    13,
                    12,
                    15,
                    16,
                    12,
                    7,
                    14,
                    12,
                    15,
                    14,
                    16,
                    10,
                    16,
                    14,
                    13,
                    13,
                    5
                  ],
                  "type": "scatter",
                  "x": [
                    "2022-08-29",
                    "2022-09-05",
                    "2022-09-12",
                    "2022-09-19",
                    "2022-09-26",
                    "2022-10-03",
                    "2022-10-10",
                    "2022-10-17",
                    "2022-10-24",
                    "2022-10-31",
                    "2022-11-07",
                    "2022-11-14",
                    "2022-11-21",
                    "2022-11-28",
                    "2022-12-05",
                    "2022-12-12",
                    "2022-12-19",
                    "2022-12-26",
                    "2023-01-02",
                    "2023-01-09",
                    "2023-01-16",
                    "2023-01-23",
                    "2023-01-30"
                  ],
                  "y": [
                    7,
                    6,
                    16,
                    12,
                    17,
                    18,
                    13,
                    12,
                    15,
                    16,
                    12,
                    7,
                    14,
                    12,
                    15,
                    14,
                    16,
                    10,
                    16,
                    14,
                    13,
                    13,
                    5
                  ],
                  "yaxis": "y2"
                },
                {
                  "marker": {
                    "color": "yellow"
                  },
                  "mode": "lines+markers",
                  "name": "Пришли на игру",
                  "text": [
                    5,
                    5,
                    8,
                    11,
                    17,
                    15,
                    13,
                    10,
                    11,
                    14,
                    11,
                    5,
                    14,
                    10,
                    12,
                    6,
                    8,
                    4,
                    4,
                    6,
                    4,
                    5,
                    0
                  ],
                  "type": "scatter",
                  "x": [
                    "2022-08-29",
                    "2022-09-05",
                    "2022-09-12",
                    "2022-09-19",
                    "2022-09-26",
                    "2022-10-03",
                    "2022-10-10",
                    "2022-10-17",
                    "2022-10-24",
                    "2022-10-31",
                    "2022-11-07",
                    "2022-11-14",
                    "2022-11-21",
                    "2022-11-28",
                    "2022-12-05",
                    "2022-12-12",
                    "2022-12-19",
                    "2022-12-26",
                    "2023-01-02",
                    "2023-01-09",
                    "2023-01-16",
                    "2023-01-23",
                    "2023-01-30"
                  ],
                  "y": [
                    5,
                    5,
                    8,
                    11,
                    17,
                    15,
                    13,
                    10,
                    11,
                    14,
                    11,
                    5,
                    14,
                    10,
                    12,
                    6,
                    8,
                    4,
                    4,
                    6,
                    4,
                    5,
                    0
                  ],
                  "yaxis": "y2"
                }
              ],
              "layout": {
                "legend": {
                  "orientation": "h"
                },
                "template": {
                  "data": {
                    "bar": [
                      {
                        "error_x": {
                          "color": "#2a3f5f"
                        },
                        "error_y": {
                          "color": "#2a3f5f"
                        },
                        "marker": {
                          "line": {
                            "color": "#E5ECF6",
                            "width": 0.5
                          },
                          "pattern": {
                            "fillmode": "overlay",
                            "size": 10,
                            "solidity": 0.2
                          }
                        },
                        "type": "bar"
                      }
                    ],
                    "barpolar": [
                      {
                        "marker": {
                          "line": {
                            "color": "#E5ECF6",
                            "width": 0.5
                          },
                          "pattern": {
                            "fillmode": "overlay",
                            "size": 10,
                            "solidity": 0.2
                          }
                        },
                        "type": "barpolar"
                      }
                    ],
                    "carpet": [
                      {
                        "aaxis": {
                          "endlinecolor": "#2a3f5f",
                          "gridcolor": "white",
                          "linecolor": "white",
                          "minorgridcolor": "white",
                          "startlinecolor": "#2a3f5f"
                        },
                        "baxis": {
                          "endlinecolor": "#2a3f5f",
                          "gridcolor": "white",
                          "linecolor": "white",
                          "minorgridcolor": "white",
                          "startlinecolor": "#2a3f5f"
                        },
                        "type": "carpet"
                      }
                    ],
                    "choropleth": [
                      {
                        "colorbar": {
                          "outlinewidth": 0,
                          "ticks": ""
                        },
                        "type": "choropleth"
                      }
                    ],
                    "contour": [
                      {
                        "colorbar": {
                          "outlinewidth": 0,
                          "ticks": ""
                        },
                        "colorscale": [
                          [
                            0,
                            "#0d0887"
                          ],
                          [
                            0.1111111111111111,
                            "#46039f"
                          ],
                          [
                            0.2222222222222222,
                            "#7201a8"
                          ],
                          [
                            0.3333333333333333,
                            "#9c179e"
                          ],
                          [
                            0.4444444444444444,
                            "#bd3786"
                          ],
                          [
                            0.5555555555555556,
                            "#d8576b"
                          ],
                          [
                            0.6666666666666666,
                            "#ed7953"
                          ],
                          [
                            0.7777777777777778,
                            "#fb9f3a"
                          ],
                          [
                            0.8888888888888888,
                            "#fdca26"
                          ],
                          [
                            1,
                            "#f0f921"
                          ]
                        ],
                        "type": "contour"
                      }
                    ],
                    "contourcarpet": [
                      {
                        "colorbar": {
                          "outlinewidth": 0,
                          "ticks": ""
                        },
                        "type": "contourcarpet"
                      }
                    ],
                    "heatmap": [
                      {
                        "colorbar": {
                          "outlinewidth": 0,
                          "ticks": ""
                        },
                        "colorscale": [
                          [
                            0,
                            "#0d0887"
                          ],
                          [
                            0.1111111111111111,
                            "#46039f"
                          ],
                          [
                            0.2222222222222222,
                            "#7201a8"
                          ],
                          [
                            0.3333333333333333,
                            "#9c179e"
                          ],
                          [
                            0.4444444444444444,
                            "#bd3786"
                          ],
                          [
                            0.5555555555555556,
                            "#d8576b"
                          ],
                          [
                            0.6666666666666666,
                            "#ed7953"
                          ],
                          [
                            0.7777777777777778,
                            "#fb9f3a"
                          ],
                          [
                            0.8888888888888888,
                            "#fdca26"
                          ],
                          [
                            1,
                            "#f0f921"
                          ]
                        ],
                        "type": "heatmap"
                      }
                    ],
                    "heatmapgl": [
                      {
                        "colorbar": {
                          "outlinewidth": 0,
                          "ticks": ""
                        },
                        "colorscale": [
                          [
                            0,
                            "#0d0887"
                          ],
                          [
                            0.1111111111111111,
                            "#46039f"
                          ],
                          [
                            0.2222222222222222,
                            "#7201a8"
                          ],
                          [
                            0.3333333333333333,
                            "#9c179e"
                          ],
                          [
                            0.4444444444444444,
                            "#bd3786"
                          ],
                          [
                            0.5555555555555556,
                            "#d8576b"
                          ],
                          [
                            0.6666666666666666,
                            "#ed7953"
                          ],
                          [
                            0.7777777777777778,
                            "#fb9f3a"
                          ],
                          [
                            0.8888888888888888,
                            "#fdca26"
                          ],
                          [
                            1,
                            "#f0f921"
                          ]
                        ],
                        "type": "heatmapgl"
                      }
                    ],
                    "histogram": [
                      {
                        "marker": {
                          "pattern": {
                            "fillmode": "overlay",
                            "size": 10,
                            "solidity": 0.2
                          }
                        },
                        "type": "histogram"
                      }
                    ],
                    "histogram2d": [
                      {
                        "colorbar": {
                          "outlinewidth": 0,
                          "ticks": ""
                        },
                        "colorscale": [
                          [
                            0,
                            "#0d0887"
                          ],
                          [
                            0.1111111111111111,
                            "#46039f"
                          ],
                          [
                            0.2222222222222222,
                            "#7201a8"
                          ],
                          [
                            0.3333333333333333,
                            "#9c179e"
                          ],
                          [
                            0.4444444444444444,
                            "#bd3786"
                          ],
                          [
                            0.5555555555555556,
                            "#d8576b"
                          ],
                          [
                            0.6666666666666666,
                            "#ed7953"
                          ],
                          [
                            0.7777777777777778,
                            "#fb9f3a"
                          ],
                          [
                            0.8888888888888888,
                            "#fdca26"
                          ],
                          [
                            1,
                            "#f0f921"
                          ]
                        ],
                        "type": "histogram2d"
                      }
                    ],
                    "histogram2dcontour": [
                      {
                        "colorbar": {
                          "outlinewidth": 0,
                          "ticks": ""
                        },
                        "colorscale": [
                          [
                            0,
                            "#0d0887"
                          ],
                          [
                            0.1111111111111111,
                            "#46039f"
                          ],
                          [
                            0.2222222222222222,
                            "#7201a8"
                          ],
                          [
                            0.3333333333333333,
                            "#9c179e"
                          ],
                          [
                            0.4444444444444444,
                            "#bd3786"
                          ],
                          [
                            0.5555555555555556,
                            "#d8576b"
                          ],
                          [
                            0.6666666666666666,
                            "#ed7953"
                          ],
                          [
                            0.7777777777777778,
                            "#fb9f3a"
                          ],
                          [
                            0.8888888888888888,
                            "#fdca26"
                          ],
                          [
                            1,
                            "#f0f921"
                          ]
                        ],
                        "type": "histogram2dcontour"
                      }
                    ],
                    "mesh3d": [
                      {
                        "colorbar": {
                          "outlinewidth": 0,
                          "ticks": ""
                        },
                        "type": "mesh3d"
                      }
                    ],
                    "parcoords": [
                      {
                        "line": {
                          "colorbar": {
                            "outlinewidth": 0,
                            "ticks": ""
                          }
                        },
                        "type": "parcoords"
                      }
                    ],
                    "pie": [
                      {
                        "automargin": true,
                        "type": "pie"
                      }
                    ],
                    "scatter": [
                      {
                        "fillpattern": {
                          "fillmode": "overlay",
                          "size": 10,
                          "solidity": 0.2
                        },
                        "type": "scatter"
                      }
                    ],
                    "scatter3d": [
                      {
                        "line": {
                          "colorbar": {
                            "outlinewidth": 0,
                            "ticks": ""
                          }
                        },
                        "marker": {
                          "colorbar": {
                            "outlinewidth": 0,
                            "ticks": ""
                          }
                        },
                        "type": "scatter3d"
                      }
                    ],
                    "scattercarpet": [
                      {
                        "marker": {
                          "colorbar": {
                            "outlinewidth": 0,
                            "ticks": ""
                          }
                        },
                        "type": "scattercarpet"
                      }
                    ],
                    "scattergeo": [
                      {
                        "marker": {
                          "colorbar": {
                            "outlinewidth": 0,
                            "ticks": ""
                          }
                        },
                        "type": "scattergeo"
                      }
                    ],
                    "scattergl": [
                      {
                        "marker": {
                          "colorbar": {
                            "outlinewidth": 0,
                            "ticks": ""
                          }
                        },
                        "type": "scattergl"
                      }
                    ],
                    "scattermapbox": [
                      {
                        "marker": {
                          "colorbar": {
                            "outlinewidth": 0,
                            "ticks": ""
                          }
                        },
                        "type": "scattermapbox"
                      }
                    ],
                    "scatterpolar": [
                      {
                        "marker": {
                          "colorbar": {
                            "outlinewidth": 0,
                            "ticks": ""
                          }
                        },
                        "type": "scatterpolar"
                      }
                    ],
                    "scatterpolargl": [
                      {
                        "marker": {
                          "colorbar": {
                            "outlinewidth": 0,
                            "ticks": ""
                          }
                        },
                        "type": "scatterpolargl"
                      }
                    ],
                    "scatterternary": [
                      {
                        "marker": {
                          "colorbar": {
                            "outlinewidth": 0,
                            "ticks": ""
                          }
                        },
                        "type": "scatterternary"
                      }
                    ],
                    "surface": [
                      {
                        "colorbar": {
                          "outlinewidth": 0,
                          "ticks": ""
                        },
                        "colorscale": [
                          [
                            0,
                            "#0d0887"
                          ],
                          [
                            0.1111111111111111,
                            "#46039f"
                          ],
                          [
                            0.2222222222222222,
                            "#7201a8"
                          ],
                          [
                            0.3333333333333333,
                            "#9c179e"
                          ],
                          [
                            0.4444444444444444,
                            "#bd3786"
                          ],
                          [
                            0.5555555555555556,
                            "#d8576b"
                          ],
                          [
                            0.6666666666666666,
                            "#ed7953"
                          ],
                          [
                            0.7777777777777778,
                            "#fb9f3a"
                          ],
                          [
                            0.8888888888888888,
                            "#fdca26"
                          ],
                          [
                            1,
                            "#f0f921"
                          ]
                        ],
                        "type": "surface"
                      }
                    ],
                    "table": [
                      {
                        "cells": {
                          "fill": {
                            "color": "#EBF0F8"
                          },
                          "line": {
                            "color": "white"
                          }
                        },
                        "header": {
                          "fill": {
                            "color": "#C8D4E3"
                          },
                          "line": {
                            "color": "white"
                          }
                        },
                        "type": "table"
                      }
                    ]
                  },
                  "layout": {
                    "annotationdefaults": {
                      "arrowcolor": "#2a3f5f",
                      "arrowhead": 0,
                      "arrowwidth": 1
                    },
                    "autotypenumbers": "strict",
                    "coloraxis": {
                      "colorbar": {
                        "outlinewidth": 0,
                        "ticks": ""
                      }
                    },
                    "colorscale": {
                      "diverging": [
                        [
                          0,
                          "#8e0152"
                        ],
                        [
                          0.1,
                          "#c51b7d"
                        ],
                        [
                          0.2,
                          "#de77ae"
                        ],
                        [
                          0.3,
                          "#f1b6da"
                        ],
                        [
                          0.4,
                          "#fde0ef"
                        ],
                        [
                          0.5,
                          "#f7f7f7"
                        ],
                        [
                          0.6,
                          "#e6f5d0"
                        ],
                        [
                          0.7,
                          "#b8e186"
                        ],
                        [
                          0.8,
                          "#7fbc41"
                        ],
                        [
                          0.9,
                          "#4d9221"
                        ],
                        [
                          1,
                          "#276419"
                        ]
                      ],
                      "sequential": [
                        [
                          0,
                          "#0d0887"
                        ],
                        [
                          0.1111111111111111,
                          "#46039f"
                        ],
                        [
                          0.2222222222222222,
                          "#7201a8"
                        ],
                        [
                          0.3333333333333333,
                          "#9c179e"
                        ],
                        [
                          0.4444444444444444,
                          "#bd3786"
                        ],
                        [
                          0.5555555555555556,
                          "#d8576b"
                        ],
                        [
                          0.6666666666666666,
                          "#ed7953"
                        ],
                        [
                          0.7777777777777778,
                          "#fb9f3a"
                        ],
                        [
                          0.8888888888888888,
                          "#fdca26"
                        ],
                        [
                          1,
                          "#f0f921"
                        ]
                      ],
                      "sequentialminus": [
                        [
                          0,
                          "#0d0887"
                        ],
                        [
                          0.1111111111111111,
                          "#46039f"
                        ],
                        [
                          0.2222222222222222,
                          "#7201a8"
                        ],
                        [
                          0.3333333333333333,
                          "#9c179e"
                        ],
                        [
                          0.4444444444444444,
                          "#bd3786"
                        ],
                        [
                          0.5555555555555556,
                          "#d8576b"
                        ],
                        [
                          0.6666666666666666,
                          "#ed7953"
                        ],
                        [
                          0.7777777777777778,
                          "#fb9f3a"
                        ],
                        [
                          0.8888888888888888,
                          "#fdca26"
                        ],
                        [
                          1,
                          "#f0f921"
                        ]
                      ]
                    },
                    "colorway": [
                      "#636efa",
                      "#EF553B",
                      "#00cc96",
                      "#ab63fa",
                      "#FFA15A",
                      "#19d3f3",
                      "#FF6692",
                      "#B6E880",
                      "#FF97FF",
                      "#FECB52"
                    ],
                    "font": {
                      "color": "#2a3f5f"
                    },
                    "geo": {
                      "bgcolor": "white",
                      "lakecolor": "white",
                      "landcolor": "#E5ECF6",
                      "showlakes": true,
                      "showland": true,
                      "subunitcolor": "white"
                    },
                    "hoverlabel": {
                      "align": "left"
                    },
                    "hovermode": "closest",
                    "mapbox": {
                      "style": "light"
                    },
                    "paper_bgcolor": "white",
                    "plot_bgcolor": "#E5ECF6",
                    "polar": {
                      "angularaxis": {
                        "gridcolor": "white",
                        "linecolor": "white",
                        "ticks": ""
                      },
                      "bgcolor": "#E5ECF6",
                      "radialaxis": {
                        "gridcolor": "white",
                        "linecolor": "white",
                        "ticks": ""
                      }
                    },
                    "scene": {
                      "xaxis": {
                        "backgroundcolor": "#E5ECF6",
                        "gridcolor": "white",
                        "gridwidth": 2,
                        "linecolor": "white",
                        "showbackground": true,
                        "ticks": "",
                        "zerolinecolor": "white"
                      },
                      "yaxis": {
                        "backgroundcolor": "#E5ECF6",
                        "gridcolor": "white",
                        "gridwidth": 2,
                        "linecolor": "white",
                        "showbackground": true,
                        "ticks": "",
                        "zerolinecolor": "white"
                      },
                      "zaxis": {
                        "backgroundcolor": "#E5ECF6",
                        "gridcolor": "white",
                        "gridwidth": 2,
                        "linecolor": "white",
                        "showbackground": true,
                        "ticks": "",
                        "zerolinecolor": "white"
                      }
                    },
                    "shapedefaults": {
                      "line": {
                        "color": "#2a3f5f"
                      }
                    },
                    "ternary": {
                      "aaxis": {
                        "gridcolor": "white",
                        "linecolor": "white",
                        "ticks": ""
                      },
                      "baxis": {
                        "gridcolor": "white",
                        "linecolor": "white",
                        "ticks": ""
                      },
                      "bgcolor": "#E5ECF6",
                      "caxis": {
                        "gridcolor": "white",
                        "linecolor": "white",
                        "ticks": ""
                      }
                    },
                    "title": {
                      "x": 0.05
                    },
                    "xaxis": {
                      "automargin": true,
                      "gridcolor": "white",
                      "linecolor": "white",
                      "ticks": "",
                      "title": {
                        "standoff": 15
                      },
                      "zerolinecolor": "white",
                      "zerolinewidth": 2
                    },
                    "yaxis": {
                      "automargin": true,
                      "gridcolor": "white",
                      "linecolor": "white",
                      "ticks": "",
                      "title": {
                        "standoff": 15
                      },
                      "zerolinecolor": "white",
                      "zerolinewidth": 2
                    }
                  }
                },
                "title": {
                  "text": "Конверсии по неделям"
                },
                "yaxis": {
                  "range": [
                    0,
                    100
                  ],
                  "side": "left",
                  "title": {
                    "text": "Конверсия, %"
                  }
                },
                "yaxis2": {
                  "overlaying": "y",
                  "range": [
                    0,
                    300
                  ],
                  "side": "right",
                  "title": {
                    "text": "Посещения сайта"
                  }
                }
              }
            }
          },
          "metadata": {},
          "output_type": "display_data"
        }
      ],
      "source": [
        "#строю график \n",
        "\n",
        "fig = go.Figure()\n",
        "\n",
        "fig.add_trace(go.Bar(\n",
        "    x=df_weeks['first_day_of_week'],\n",
        "    y=df_weeks['conversion_reg'],\n",
        "    name=\"Доля тех кто зарегистрировался на сайте из посетивших, %\",\n",
        "    marker_color='tan',\n",
        "    text=df_weeks['conversion_reg'].round(2)\n",
        "))\n",
        "\n",
        "fig.add_trace(go.Bar(\n",
        "    x=df_weeks['first_day_of_week'],\n",
        "    y=df_weeks['conversion_app'],\n",
        "    name=\"Доля тех кто подал на игру из зарегистрированных, %\",\n",
        "    marker_color='navajowhite',\n",
        "    text=df_weeks['conversion_app'].round(2)\n",
        "))\n",
        "\n",
        "fig.add_trace(go.Bar(\n",
        "    x=df_weeks['first_day_of_week'],\n",
        "    y=df_weeks['conversion_game'],\n",
        "    name=\"Доля тех кто пришел на игру из подавших, %\",\n",
        "    marker_color='blanchedalmond',\n",
        "    text=df_weeks['conversion_game'].round(2)\n",
        "))\n",
        "\n",
        "fig.add_trace(go.Scatter(\n",
        "    x=df_weeks['first_day_of_week'],\n",
        "    y=df_weeks['visitors'],\n",
        "    mode='lines+markers', \n",
        "    name='Количество посещений сайта',\n",
        "    yaxis='y2'\n",
        "))\n",
        "\n",
        "fig.add_trace(go.Scatter(\n",
        "    x=df_weeks['first_day_of_week'],\n",
        "    y=df_weeks['registered'],\n",
        "    yaxis=\"y2\",\n",
        "    name=\"Регистрации\",\n",
        "    marker_color='blue',\n",
        "    text=df_weeks['registered']\n",
        "))\n",
        "\n",
        "fig.add_trace(go.Scatter(\n",
        "    x=df_weeks['first_day_of_week'],\n",
        "    y=df_weeks['applied'],\n",
        "    yaxis=\"y2\",\n",
        "    name=\"Подали заявку на игру\",\n",
        "    marker_color='purple',\n",
        "    text=df_weeks['applied']\n",
        "))\n",
        "\n",
        "fig.add_trace(go.Scatter(\n",
        "    x=df_weeks['first_day_of_week'],\n",
        "    y=df_weeks['played'],\n",
        "    yaxis=\"y2\",\n",
        "    mode='lines+markers', \n",
        "    name='Пришли на игру',\n",
        "    marker_color='yellow',\n",
        "    text=df_weeks['played']\n",
        "))\n",
        "\n",
        "fig.update_layout(\n",
        "    legend=dict(orientation=\"h\"),\n",
        "    title='Конверсии по неделям',\n",
        "    yaxis=dict(\n",
        "        title=dict(text=\"Конверсия, %\"),\n",
        "        side=\"left\",\n",
        "        range=[0, 100]\n",
        "    ),\n",
        "    yaxis2=dict(\n",
        "        title=dict(text=\"Посещения сайта\"),\n",
        "        side=\"right\",\n",
        "        range=[0, 300],\n",
        "        overlaying=\"y\"\n",
        "    )\n",
        ")\n",
        "\n",
        "fig.show()"
      ]
    },
    {
      "cell_type": "markdown",
      "metadata": {},
      "source": [
        "Выводы:\n",
        "\n",
        "1. Сложно сделать какие-то выводы за Февраль 2023 года из-за нехватки данных.\n",
        "2. Как мы видим конверсия регистрации на сайте по месяцам составляет 25%. То есть около 75% людей посетивших сайт не стали на нем регистрироваться. Возможно это связано с неудобностью интерфейса или формой для регистрации, которую люди по какой-то причине не хотят заполнять (например, не хотят оставлять личные данные).\n",
        "3. Доля подавших на игру из зарегистрировавшихся составляет 30%, скорее всего это из-за того, что люди просто забывают о своей регистрации.\n",
        "4. По какой-то причине в декабре 2022 резко подает доля людей, которые пришли на игру из подавших.\n",
        "\n",
        "Точки роста:\n",
        "\n",
        "1. Для тех кто регистрируется, но не подает на игру, можно организовать рассылку с уведомлениями на почту или в виде смс на телефон.\n",
        "2. Для увеличения конверсии регистрции можно упростить форму регистрации и запрашивать меньше личных данных у пользователей."
      ]
    }
  ],
  "metadata": {
    "colab": {
      "provenance": [],
      "toc_visible": true
    },
    "kernelspec": {
      "display_name": "Python 3",
      "name": "python3"
    },
    "language_info": {
      "codemirror_mode": {
        "name": "ipython",
        "version": 3
      },
      "file_extension": ".py",
      "mimetype": "text/x-python",
      "name": "python",
      "nbconvert_exporter": "python",
      "pygments_lexer": "ipython3",
      "version": "3.11.9"
    }
  },
  "nbformat": 4,
  "nbformat_minor": 0
}
